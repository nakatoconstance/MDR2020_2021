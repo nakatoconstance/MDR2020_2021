{
  "cells": [
    {
      "cell_type": "markdown",
      "metadata": {
        "id": "view-in-github",
        "colab_type": "text"
      },
      "source": [
        "<a href=\"https://colab.research.google.com/github/nakatoconstance/MDR2020_2021/blob/main/MDR_2020_2021.ipynb\" target=\"_parent\"><img src=\"https://colab.research.google.com/assets/colab-badge.svg\" alt=\"Open In Colab\"/></a>"
      ]
    },
    {
      "cell_type": "code",
      "execution_count": null,
      "metadata": {
        "id": "67ec8884"
      },
      "outputs": [],
      "source": [
        "from IPython.display import FileLink\n",
        "from IPython.display import display\n",
        "from google.colab import data_table\n",
        "from google.colab import drive\n",
        "from google.colab import files\n",
        "from matplotlib.font_manager import FontProperties\n",
        "from scipy.stats import chi2_contingency\n",
        "import matplotlib.pyplot\n",
        "import numpy\n",
        "import pandas\n",
        "import pymannkendall\n",
        "import re\n",
        "import seaborn"
      ]
    },
    {
      "cell_type": "code",
      "execution_count": null,
      "metadata": {
        "id": "gYph2XyIO1fU"
      },
      "outputs": [],
      "source": []
    },
    {
      "cell_type": "code",
      "execution_count": null,
      "metadata": {
        "id": "4LHxwcCXO1fU"
      },
      "outputs": [],
      "source": []
    },
    {
      "cell_type": "code",
      "execution_count": null,
      "metadata": {
        "id": "oAPBkfYLO1fV"
      },
      "outputs": [],
      "source": [
        "# Load the data\n",
        "uploaded = files.upload()\n",
        "np.random.seed(0)"
      ]
    },
    {
      "cell_type": "code",
      "execution_count": null,
      "metadata": {
        "id": "Bd3tS016O1fV"
      },
      "outputs": [],
      "source": []
    },
    {
      "cell_type": "code",
      "execution_count": null,
      "metadata": {
        "id": "h9NdE-40O1fW"
      },
      "outputs": [],
      "source": [
        "#load dataframe\n",
        "data = pd.read_csv('MUST_MDR_DATA_final_MERGED_final.csv', encoding='latin-1')\n",
        "data.head()"
      ]
    },
    {
      "cell_type": "code",
      "execution_count": null,
      "metadata": {
        "id": "w-eziIU9O1fW"
      },
      "outputs": [],
      "source": []
    },
    {
      "cell_type": "code",
      "execution_count": null,
      "metadata": {
        "id": "FBf5IO86O1fW"
      },
      "outputs": [],
      "source": []
    },
    {
      "cell_type": "code",
      "execution_count": null,
      "metadata": {
        "id": "uBgADXScO1fW"
      },
      "outputs": [],
      "source": [
        "# Step 1: Define clean urine specimen terms\n",
        "allowed_urine = ['ur', 'urine', 'msu', 'uc', 'ue', 'ur.']\n",
        "\n",
        "# Step 2: Filter the DataFrame for allowed urine samples\n",
        "filtered_data = data[data['Specimen type'].isin(allowed_urine)]\n",
        "\n",
        "# Step 3: Count occurrences in the filtered data\n",
        "counts_allowed_urine = filtered_data['Specimen type'].value_counts()\n",
        "\n",
        "# Step 4: Print the counts\n",
        "print(counts_allowed_urine)"
      ]
    },
    {
      "cell_type": "code",
      "execution_count": null,
      "metadata": {
        "id": "6Iv1DXvfO1fX"
      },
      "outputs": [],
      "source": []
    },
    {
      "cell_type": "code",
      "execution_count": null,
      "metadata": {
        "id": "5I7SZHbxO1fY"
      },
      "outputs": [],
      "source": [
        "# Step 1: Define clean urine specimen terms\n",
        "allowed_urine = ['ur', 'urine', 'msu', 'uc', 'ue', 'ur.']\n",
        "\n",
        "# Step 2: Clean 'Specimen type' column\n",
        "data['Specimen type'] = data['Specimen type'].astype(str).str.strip().str.lower()\n",
        "\n",
        "# Step 3: Filter for clean urine samples\n",
        "urine_all = data[data['Specimen type'].isin(allowed_urine)].copy()\n",
        "\n",
        "# Step 4: Flag *Staphylococcus aureus* entries (e.g., 'sau', 'saj')\n",
        "urine_all['Flagged_for_review'] = urine_all['Organism'].str.lower().isin(['sau', 'saj'])\n",
        "\n",
        "# Step 5: Define organism groups\n",
        "true_uropathogens = [\n",
        "    'eco', 'kpn', 'kl', 'kl-', 'koz', 'kox', 'eae', 'ent', 'efa', 'ecl',\n",
        "    'esc', 'prv', 'pmi', 'pvu', 'sma', 'cfr', 'ci-', 'mmo'\n",
        "]\n",
        "conditional_uropathogens = [\n",
        "    'ps-', 'pae', 'xpa', 'aba', 'ac-', 'xgo', 'xsg', 'svi', 'ecc',\n",
        "    'ecx', 'pr-', 'ne-', 'ngo'\n",
        "]\n",
        "contaminants_or_non_uropathogens = [\n",
        "    'nan', 'xxx', 'can', 'cal', 'cac', 'sta', 'scn', 'sc+', 'con',\n",
        "    'cgu', 'cci', 'spn', 'str', 'ssa', 'oth', 'gnr'\n",
        "]\n",
        "\n",
        "# Step 6: Add column to classify organism type\n",
        "organism_col = 'Organism'\n",
        "urine_all['Organism'] = urine_all[organism_col].astype(str).str.lower().str.strip()\n",
        "\n",
        "def classify_org(code):\n",
        "    if code in true_uropathogens:\n",
        "        return 'keep'\n",
        "    elif code in conditional_uropathogens:\n",
        "        return 'flag'\n",
        "    else:\n",
        "        return 'exclude'\n",
        "\n",
        "urine_all['Organism_group'] = urine_all['Organism'].apply(classify_org)\n",
        "\n",
        "# Step 7: Final filtered dataset (only true uropathogens, exclude all else)\n",
        "urine_data = urine_all[urine_all['Organism_group'] == 'keep'].copy()\n",
        "\n",
        "# Step 8: Save the clean dataset\n",
        "urine_data.to_csv('urine_data.csv', index=False)\n",
        "\n",
        "print(\"✅ Saved: Final clean dataset with true uropathogens as 'urine_data.csv'\")"
      ]
    },
    {
      "cell_type": "code",
      "execution_count": null,
      "metadata": {
        "id": "aCyoEqilO1fZ"
      },
      "outputs": [],
      "source": []
    },
    {
      "cell_type": "code",
      "execution_count": null,
      "metadata": {
        "id": "-vuGrnVFO1fZ"
      },
      "outputs": [],
      "source": []
    },
    {
      "cell_type": "code",
      "execution_count": null,
      "metadata": {
        "id": "i8xluCE1O1fZ"
      },
      "outputs": [],
      "source": [
        "#count number of raws\n",
        "print(len(urine_data))"
      ]
    },
    {
      "cell_type": "code",
      "execution_count": null,
      "metadata": {
        "id": "9cA1Px2RO1fa"
      },
      "outputs": [],
      "source": [
        "#print unique organisms\n",
        "print(urine_data['Organism'].unique())"
      ]
    },
    {
      "cell_type": "code",
      "execution_count": null,
      "metadata": {
        "id": "e_SJLvTpO1fa"
      },
      "outputs": [],
      "source": [
        "#print counts for each organism\n",
        "print(urine_data['Organism'].value_counts())"
      ]
    },
    {
      "cell_type": "code",
      "execution_count": null,
      "metadata": {
        "id": "qeNJnci1O1fa"
      },
      "outputs": [],
      "source": [
        "#remove duplicates\n",
        "urine_data = urine_data.drop_duplicates()"
      ]
    },
    {
      "cell_type": "code",
      "execution_count": null,
      "metadata": {
        "id": "AQcA-bKoO1fa"
      },
      "outputs": [],
      "source": [
        "# Ensure correct date parsing (dayfirst=True for dd/mm/yyyy format)\n",
        "data['Specimen date'] = pd.to_datetime(data['Specimen date'], errors='coerce', dayfirst=True)\n",
        "\n",
        "# Sort the dataframe by 'Specimen date'\n",
        "data.sort_values(by='Specimen date', inplace=True)\n",
        "\n",
        "# Forward-fill missing dates\n",
        "#data['Specimen date'] = data['Specimen date'].ffill()\n",
        "data['Specimen date'] = data['Specimen date'].interpolate(method='linear')  # Example\n",
        "# Now the data is correctly sorted and missing dates are filled with forward filling"
      ]
    },
    {
      "cell_type": "code",
      "execution_count": null,
      "metadata": {
        "id": "32CuEE0aO1fa"
      },
      "outputs": [],
      "source": [
        "#check unique specimen\n",
        "unique_specimen = urine_data['Specimen type'].unique()\n",
        "print(unique_specimen)"
      ]
    },
    {
      "cell_type": "code",
      "execution_count": null,
      "metadata": {
        "id": "VbV37IRnO1fa"
      },
      "outputs": [],
      "source": [
        "#check unique organisms\n",
        "unique_organisms = urine_data['Organism'].unique()\n",
        "print(unique_organisms)"
      ]
    },
    {
      "cell_type": "code",
      "execution_count": null,
      "metadata": {
        "id": "Rc7YwLWaO1fb"
      },
      "outputs": [],
      "source": []
    },
    {
      "cell_type": "code",
      "execution_count": null,
      "metadata": {
        "id": "mOWbANNZO1fb"
      },
      "outputs": [],
      "source": []
    },
    {
      "cell_type": "code",
      "execution_count": null,
      "metadata": {
        "id": "lYKhMDRqO1fb"
      },
      "outputs": [],
      "source": [
        "# STEP 0: Apply “one isolate per patient per year” rule\n",
        "\n",
        "# Convert 'Specimen date' to datetime and extract year\n",
        "urine_data['Specimen date'] = pd.to_datetime(urine_data['Specimen date'], errors='coerce')\n",
        "urine_data['Year'] = urine_data['Specimen date'].dt.year\n",
        "\n",
        "# Build composite ID for cases with missing official ID\n",
        "urine_data['ID_fallback'] = urine_data['Identification number'].fillna(\n",
        "    urine_data['Last name'].astype(str).str.upper() + \"_\" +\n",
        "    urine_data['First name'].astype(str).str.upper() + \"_\" +\n",
        "    urine_data['Sex'].astype(str).str.upper() + \"_\" +\n",
        "    urine_data['Date of Birth'].astype(str)\n",
        ")\n",
        "\n",
        "# Keep only one isolate per patient per year\n",
        "urine_data = urine_data.sort_values(by='Specimen date')\n",
        "urine_data = urine_data.drop_duplicates(subset=['ID_fallback', 'Year'], keep='first')"
      ]
    },
    {
      "cell_type": "code",
      "execution_count": null,
      "metadata": {
        "id": "oB2NDj4YO1fb"
      },
      "outputs": [],
      "source": [
        "print(urine_data['Organism'].value_counts())"
      ]
    },
    {
      "cell_type": "code",
      "execution_count": null,
      "metadata": {
        "id": "zx0dqci8O1fb"
      },
      "outputs": [],
      "source": [
        "# Step: Define code-to-organism mapping dictionary\n",
        "organism_mapping = {\n",
        "    'eco': 'Escherichia coli',\n",
        "    'kl-': 'Klebsiella spp.',\n",
        "    'ent': 'Enterococcus spp.',\n",
        "    'eae': 'Enterobacter aerogenes',\n",
        "    'kpn': 'Klebsiella pneumoniae',\n",
        "    'esc': 'Enterobacter spp.',\n",
        "    'efa': 'Enterococcus faecalis',\n",
        "    'cfr': 'Citrobacter freundii',\n",
        "    'mmo': 'Morganella morganii',\n",
        "    'pmi': 'Proteus mirabilis',\n",
        "    'ecl': 'Enterobacter cloacae',\n",
        "    'prv': 'Providencia spp.',\n",
        "    'kl':  'Klebsiella spp.',\n",
        "    'koz': 'Klebsiella oxytoca',\n",
        "    'kox': 'Klebsiella oxytoca',\n",
        "    'ci-': 'Citrobacter spp.',\n",
        "    'pvu': 'Proteus vulgaris',\n",
        "    'sma': 'Serratia marcescens'\n",
        "}\n",
        "\n",
        "# Step: Clean and map organism codes\n",
        "urine_data['Organism'] = urine_data['Organism'].astype(str).str.lower().str.strip()\n",
        "urine_data['Organism_full'] = urine_data['Organism'].map(organism_mapping)\n",
        "\n",
        "# Optional: Flag unmapped codes (for review or data quality checks)\n",
        "urine_data['Unmapped_Organism'] = urine_data['Organism_full'].isna()"
      ]
    },
    {
      "cell_type": "code",
      "execution_count": null,
      "metadata": {
        "id": "5S8qhsTJO1fb"
      },
      "outputs": [],
      "source": [
        "#unique organisms\n",
        "# First, if the original 'Organism' column still exists and is not needed, drop it\n",
        "if 'Organism' in urine_data.columns:\n",
        "    urine_data = urine_data.drop(columns=['Organism'])\n",
        "\n",
        "# Then, rename the 'Organism_full' column to 'Organism'\n",
        "urine_data = urine_data.rename(columns={'Organism_full': 'Organism'})\n",
        "print(urine_data['Organism'].unique())"
      ]
    },
    {
      "cell_type": "code",
      "execution_count": null,
      "metadata": {
        "id": "x3zFL2kbO1fc"
      },
      "outputs": [],
      "source": [
        "#Lets get values from 2018 on wards\n",
        "\n",
        "urine_data = urine_data[(urine_data['Specimen date'] >= '2019') & (urine_data['Specimen date'] < '2025-01-01')]\n",
        "\n",
        "#Total number of recods\n",
        "print(len(urine_data))"
      ]
    },
    {
      "cell_type": "code",
      "execution_count": null,
      "metadata": {
        "id": "2YdgkTG1O1fc"
      },
      "outputs": [],
      "source": [
        "#Full counts for each organism in table\n",
        "organism_counts = urine_data['Organism'].value_counts()\n",
        "print(organism_counts)"
      ]
    },
    {
      "cell_type": "code",
      "execution_count": null,
      "metadata": {
        "id": "tSXd1PahO1fc"
      },
      "outputs": [],
      "source": []
    },
    {
      "cell_type": "code",
      "execution_count": null,
      "metadata": {
        "id": "ecSzHLEWO1fc"
      },
      "outputs": [],
      "source": [
        "#display unique departments\n",
        "print(urine_data['Department'].unique())"
      ]
    },
    {
      "cell_type": "code",
      "execution_count": null,
      "metadata": {
        "id": "WaE515msO1fc"
      },
      "outputs": [],
      "source": [
        "#start and end date\n",
        "print(urine_data['Specimen date'].min())\n",
        "print(urine_data['Specimen date'].max())"
      ]
    },
    {
      "cell_type": "code",
      "execution_count": null,
      "metadata": {
        "id": "Nb2Z1uR9O1fc"
      },
      "outputs": [],
      "source": [
        "# Normalize department names\n",
        "urine_data['Department_clean'] = urine_data['Department'].astype(str).str.lower().str.strip()\n",
        "\n",
        "# Define Klebsiella organisms\n",
        "klebsiella_labels = ['Klebsiella spp.', 'Klebsiella pneumoniae', 'Klebsiella oxytoca']\n",
        "\n",
        "# Filter: OPD + Klebsiella\n",
        "opd_klebsiella = urine_data[\n",
        "    urine_data['Department_clean'].str.contains('opd', na=False) &\n",
        "    urine_data['Organism'].isin(klebsiella_labels)\n",
        "]\n",
        "\n",
        "# Count each Klebsiella species in OPD\n",
        "opd_kleb_counts = opd_klebsiella['Organism'].value_counts()\n",
        "print(opd_kleb_counts)\n",
        "\n",
        "# Optional: Total Klebsiella in OPD\n",
        "print(f\"\\nTotal Klebsiella isolates in OPD: {opd_klebsiella.shape[0]}\")"
      ]
    },
    {
      "cell_type": "code",
      "execution_count": null,
      "metadata": {
        "id": "YNXCBMDrO1fd"
      },
      "outputs": [],
      "source": []
    },
    {
      "cell_type": "code",
      "execution_count": null,
      "metadata": {
        "id": "tZHXRK7_O1fd"
      },
      "outputs": [],
      "source": [
        "# Count E. coli in OPD\n",
        "eco_opd = urine_data[\n",
        "    (urine_data['Department_clean'].str.contains('opd', na=False)) &\n",
        "    (urine_data['Organism'] == 'Escherichia coli')\n",
        "]\n",
        "\n",
        "print(f\"E. coli in OPD: {eco_opd.shape[0]}\")"
      ]
    },
    {
      "cell_type": "code",
      "execution_count": null,
      "metadata": {
        "id": "Ih3wQDS5O1fd"
      },
      "outputs": [],
      "source": []
    },
    {
      "cell_type": "code",
      "execution_count": null,
      "metadata": {
        "id": "0WfPv2iCO1fe"
      },
      "outputs": [],
      "source": []
    },
    {
      "cell_type": "code",
      "execution_count": null,
      "metadata": {
        "id": "mxZcxOFGO1ff"
      },
      "outputs": [],
      "source": [
        "#count missing dates\n",
        "missing_dates = urine_data['Specimen date'].isnull().sum()\n",
        "print(f\"Number of missing dates: {missing_dates}\")"
      ]
    },
    {
      "cell_type": "code",
      "execution_count": null,
      "metadata": {
        "id": "ulB3Sy9AO1ff"
      },
      "outputs": [],
      "source": []
    },
    {
      "cell_type": "code",
      "execution_count": null,
      "metadata": {
        "id": "hgpQlwc5O1fg"
      },
      "outputs": [],
      "source": []
    },
    {
      "cell_type": "code",
      "execution_count": null,
      "metadata": {
        "id": "XxbgSAn_O1fr"
      },
      "outputs": [],
      "source": [
        "#count organisms per specimen\n",
        "specimen_counts = urine_data['Specimen type'].value_counts()\n",
        "print(specimen_counts)"
      ]
    },
    {
      "cell_type": "code",
      "execution_count": null,
      "metadata": {
        "id": "8WlzlPNdO1fs"
      },
      "outputs": [],
      "source": [
        "print(urine_data['Organism'].unique())"
      ]
    },
    {
      "cell_type": "code",
      "execution_count": null,
      "metadata": {
        "id": "SRDPrdTeO1ft"
      },
      "outputs": [],
      "source": []
    },
    {
      "cell_type": "code",
      "execution_count": null,
      "metadata": {
        "id": "s-icRiKOO1fu"
      },
      "outputs": [],
      "source": []
    },
    {
      "cell_type": "code",
      "execution_count": null,
      "metadata": {
        "id": "iYTKjNTjO1fu"
      },
      "outputs": [],
      "source": []
    },
    {
      "cell_type": "code",
      "execution_count": null,
      "metadata": {
        "id": "k6j8MmkBO1fu"
      },
      "outputs": [],
      "source": [
        "# Define the column name replacements\n",
        "column_name_mapping = {\n",
        "\n",
        "    'AMX_ND25': 'Amoxicillin',\n",
        "    'AMC_ND20': 'Amoxicillin/Clavulanic Acid',\n",
        "    'AMK_ND30': 'Amikacin',\n",
        "    'AMP_ND10': 'Ampicillin',\n",
        "    'AZM_ND15': 'Azithromycin',\n",
        "    'FEP_ND30': 'Cefepime',\n",
        "    'BAC_ND10': 'Bacitracin',\n",
        "    'CRO_ND30': 'Ceftriaxone',\n",
        "    'CXM_ND30': 'Cefuroxime',\n",
        "    'CIP_ND5': 'Ciprofloxacin',\n",
        "    'OXA_ND1': 'Oxacillin',\n",
        "    'CHL_ND30': 'Chloramphenicol',\n",
        "    'CZO_ND30': 'Cefazolin',\n",
        "    'CLI_ND2': 'Clindamycin',\n",
        "    'GEN_ND10': 'Gentamicin',\n",
        "    'GEH_ND120': 'Gentaheptose',\n",
        "    'ERY_ND15': 'Erythromycin',\n",
        "    'TCY_ND30': 'Tetracycline',\n",
        "    'RIF_ND5': 'Rifampicin',\n",
        "    'SAM_ND10': 'Ampicillin/Sulbactam',\n",
        "    'OFX_ND5': 'Ofloxacin',\n",
        "    'SXT_ND12': 'Sulfamethoxazole',  # corrected spelling\n",
        "    'TOB_ND10': 'Tobramycin',\n",
        "    'OPT_ND5': 'Optochin',\n",
        "    'MFX_ND5': 'Moxifloxacin',\n",
        "    'VAN_ND30': 'Vancomycin',\n",
        "    'PEN_ND10': 'Penicillin',\n",
        "    'NAL_ND30': 'Nalidixic Acid',\n",
        "    'IPM_ND10': 'Imipenem',\n",
        "    'CAC_ND30': 'Cefaclor',\n",
        "    'CAZ_ND30': 'Ceftazidime',\n",
        "    'LVX_ND5': 'Levofloxacin',\n",
        "    'NIT_ND300': 'Nitrofurantoin',\n",
        "    'CTC_ND30': 'Chlortetracycline',\n",
        "    'CTX_ND30': 'Cefotaxime',\n",
        "    'ATM_ND30': 'Aztreonam',\n",
        "    'AZL_ND75': 'Azlocillin',\n",
        "    'CFM_ND5': 'Cefixime',\n",
        "    'FOX_ND30': 'Cefoxitin 30 mg',  # made unique\n",
        "    'FOX_ND10': 'Cefoxitin 10 mg',  # made unique\n",
        "    'DOX_ND30': 'Doxycycline',\n",
        "    'LNZ_ND30': 'Linezolid',\n",
        "    'MEM_ND10': 'Meropenem',\n",
        "    'MET_ND5': 'Metronidazole',\n",
        "    'PIP_ND100': 'Piperacillin',\n",
        "    'CCV_ND30': 'Cefovecin',\n",
        "    'NOV_ND5': 'Novobiocin',\n",
        "    'PEF_ND10': 'Pefloxacin',\n",
        "    'NOR_ND5': 'Norfloxacin'\n",
        "}\n",
        "\n",
        "# Get existing columns in the DataFrame\n",
        "existing_columns = urine_data.columns\n",
        "\n",
        "# Filter the mapping to only include existing columns\n",
        "filtered_mapping = {k: v for k, v in column_name_mapping.items() if k in existing_columns}\n",
        "\n",
        "# Replace the column names\n",
        "urine_data = urine_data.rename(columns=filtered_mapping)"
      ]
    },
    {
      "cell_type": "code",
      "execution_count": null,
      "metadata": {
        "id": "BzZWrVJ9O1fv"
      },
      "outputs": [],
      "source": []
    },
    {
      "cell_type": "code",
      "execution_count": null,
      "metadata": {
        "id": "OdEVfexaO1fw"
      },
      "outputs": [],
      "source": [
        "#droping missing organisms\n",
        "urine_data = urine_data.dropna(subset=['Organism'])"
      ]
    },
    {
      "cell_type": "code",
      "execution_count": null,
      "metadata": {
        "id": "S896FSYoO1fx"
      },
      "outputs": [],
      "source": [
        "#check total number of records\n",
        "print(len(urine_data))"
      ]
    },
    {
      "cell_type": "code",
      "execution_count": null,
      "metadata": {
        "id": "Pqmlgc5BO1fx"
      },
      "outputs": [],
      "source": [
        "# Check the unique values in the 'Sex' column\n",
        "print(urine_data['Sex'].unique())\n",
        "\n",
        "# Check the data type of the 'Sex' column\n",
        "print(urine_data['Sex'].dtype)\n",
        "#count columns with nan or -\n",
        "nan_count = urine_data['Sex'].isna().sum()\n",
        "print(\"Number of NaN values in 'Sex' column:\", nan_count)"
      ]
    },
    {
      "cell_type": "code",
      "execution_count": null,
      "metadata": {
        "id": "gnXgMmqWO1fx"
      },
      "outputs": [],
      "source": [
        "#droping sex with  '-'\n",
        "urine_data = urine_data[urine_data['Sex'] != '-']\n",
        "#droping unknown sex\n",
        "urine_data=urine_data.dropna(subset=['Sex'])"
      ]
    },
    {
      "cell_type": "code",
      "execution_count": null,
      "metadata": {
        "id": "gzhUUSSOO1fy"
      },
      "outputs": [],
      "source": [
        "# Select columns 8 to 31\n",
        "columns_to_encode = urine_data.columns[28:78]\n",
        "\n",
        "# One-hot encode, handling only I, R, and S\n",
        "data_encoded = pd.DataFrame()\n",
        "for col in columns_to_encode:\n",
        "    temp_df = pd.get_dummies(urine_data[col], prefix=col)  # Encode all values\n",
        "    value_mapping = {'I': col + '_I', 'R': col + '_R', 'S': col + '_S'}\n",
        "    desired_columns = [value_mapping[val] for val in value_mapping if value_mapping[val] in temp_df.columns]\n",
        "    if desired_columns:\n",
        "        temp_df = temp_df[desired_columns]\n",
        "        data_encoded = pd.concat([data_encoded, temp_df], axis=1)\n",
        "\n",
        "# Concatenate encoded columns with original DataFrame\n",
        "urine_data = pd.concat([urine_data, data_encoded], axis=1)\n",
        "\n",
        "# Change datatype of encoded columns to int and impute missing values\n",
        "encoded_column_names = data_encoded.columns.tolist()\n",
        "urine_data[encoded_column_names] = urine_data[encoded_column_names].fillna(0).astype(int)  # Fill NaN first\n",
        "\n",
        "print(encoded_column_names)  # Display the encoded column names"
      ]
    },
    {
      "cell_type": "code",
      "execution_count": null,
      "metadata": {
        "id": "Kp1qI6f-O1fy"
      },
      "outputs": [],
      "source": []
    },
    {
      "cell_type": "code",
      "execution_count": null,
      "metadata": {
        "id": "So7jHZanO1fz"
      },
      "outputs": [],
      "source": [
        "#droping original columns\n",
        "# Assuming 'columns_to_encode' contains the names of original columns you encoded:\n",
        "urine_data = urine_data.drop(columns=columns_to_encode)"
      ]
    },
    {
      "cell_type": "code",
      "execution_count": null,
      "metadata": {
        "id": "qV3XzwHNO1fz"
      },
      "outputs": [],
      "source": []
    },
    {
      "cell_type": "code",
      "execution_count": null,
      "metadata": {
        "id": "eEwUVG_1O1fz"
      },
      "outputs": [],
      "source": [
        "urine_data['Specimen date'] = pd.to_datetime(urine_data['Specimen date'], dayfirst=True)\n",
        "#urine_data['Specimen date'] = data['Specimen date'].interpolate(method='linear')  # Example"
      ]
    },
    {
      "cell_type": "code",
      "execution_count": null,
      "metadata": {
        "id": "pBSrlShpO1f0"
      },
      "outputs": [],
      "source": [
        "# Check for NaN values in encoded columns\n",
        "nan_values = urine_data[encoded_column_names].isna().sum()\n",
        "print(nan_values)"
      ]
    },
    {
      "cell_type": "code",
      "execution_count": null,
      "metadata": {
        "id": "x6YvkK4qO1f0"
      },
      "outputs": [],
      "source": []
    },
    {
      "cell_type": "code",
      "execution_count": null,
      "metadata": {
        "id": "BVNUIxPeO1f0"
      },
      "outputs": [],
      "source": [
        "print(urine_data[encoded_column_names].head(10))  # Check the first 10 rows of encoded columns\n",
        "#print(data.info())  # Get summary information about the DataFrame"
      ]
    },
    {
      "cell_type": "code",
      "execution_count": null,
      "metadata": {
        "id": "I92PEkOAO1f1"
      },
      "outputs": [],
      "source": [
        "#check empty age columns\n",
        "missing_data = urine_data['Age'].isnull().sum()\n",
        "print(missing_data)\n",
        "#show unique age\n",
        "print(urine_data['Age'].unique())"
      ]
    },
    {
      "cell_type": "code",
      "execution_count": null,
      "metadata": {
        "id": "OILqtWD3O1f2"
      },
      "outputs": [],
      "source": [
        "def standardize_age_to_years(age_str):\n",
        "    \"\"\"Standardizes age data and converts it to years.\n",
        "\n",
        "    Args:\n",
        "        age_str: The age string to standardize.\n",
        "\n",
        "    Returns:\n",
        "        The standardized age in years as a float, rounded to 1 decimal place, or NaN if the value is non-numeric.\n",
        "    \"\"\"\n",
        "\n",
        "    try:\n",
        "        # Ensure age_str is a string\n",
        "        age_str = str(age_str)  # Convert to string if necessary\n",
        "\n",
        "        # Check for numeric format\n",
        "        if re.match(r\"^\\d+$\", age_str):\n",
        "            return float(age_str)  # Already in years\n",
        "\n",
        "        # Check for week, month, or day suffixes\n",
        "        elif age_str.endswith('w'):  # Weeks\n",
        "            return round(int(age_str[:-1]) / 52.1429, 1)\n",
        "        elif age_str.endswith('m'):  # Months\n",
        "            return round(int(age_str[:-1]) / 12, 1)\n",
        "        elif age_str.endswith('d'):  # Days\n",
        "            return round(int(age_str[:-1]) / 365.25, 1)\n",
        "\n",
        "    except ValueError:\n",
        "        # Handle non-numeric values\n",
        "        return pd.NA\n",
        "\n",
        "# Assuming your DataFrame is named 'data' and has an 'Age' column\n",
        "urine_data['Age'] = urine_data['Age'].apply(standardize_age_to_years)\n",
        "\n",
        "# Display the standardized data\n",
        "print(urine_data)\n",
        "#print standardised age\n",
        "#print(data['Age'].unique())\n",
        "#i want to delete None <NAN>\n",
        "#data = data.dropna(subset=['Age'])"
      ]
    },
    {
      "cell_type": "code",
      "execution_count": null,
      "metadata": {
        "id": "3FRLZrAoO1f2"
      },
      "outputs": [],
      "source": [
        "# Assuming the 'Age' column is in your DataFrame 'data'\n",
        "urine_data.loc[:, 'Age'] = pd.to_numeric(urine_data['Age'], errors='coerce')\n",
        "\n",
        "def convert_to_decimal(number):\n",
        "    # Convert the number to decimal notation with one decimal place\n",
        "    return np.round(number, 1)\n",
        "\n",
        "# Assuming your DataFrame is named 'data' and the column with scientific notation is 'Age'\n",
        "urine_data['Age'] = urine_data['Age'].apply(convert_to_decimal)\n",
        "urine_data['Age'] = urine_data['Age'].round(1)\n",
        "\n",
        "# Remove rows with NaN values in the 'Age' column\n",
        "urine_data = urine_data.dropna(subset=['Age'])\n",
        "\n",
        "# Display the filtered data\n",
        "print(urine_data)"
      ]
    },
    {
      "cell_type": "code",
      "execution_count": null,
      "metadata": {
        "id": "zbbSSnFfO1f3"
      },
      "outputs": [],
      "source": [
        "#Let us get the minimum and maximum dates\n",
        "print(urine_data['Specimen date'].min())\n",
        "print(urine_data['Specimen date'].max())"
      ]
    },
    {
      "cell_type": "code",
      "execution_count": null,
      "metadata": {
        "id": "gkJxKG9LO1f3"
      },
      "outputs": [],
      "source": []
    },
    {
      "cell_type": "code",
      "execution_count": null,
      "metadata": {
        "id": "JT7ryTRSO1f4"
      },
      "outputs": [],
      "source": [
        "# ... (your code for loading and cleaning the data) ...\n",
        "\n",
        "# Department standardization mapping\n",
        "department_mapping = {\n",
        "    'opd': 'Outpatient Department',\n",
        "    'outpatient department': 'Outpatient Department', # added\n",
        "    'med': 'Medicine',\n",
        "    'medicine': 'Medicine', # added\n",
        "    'pri': 'Private',\n",
        "    'priv': 'Private',\n",
        "    'private': 'Private', # added\n",
        "    'icu': 'Intensive Care Unit',\n",
        "    'intensive care unit': 'Intensive Care Unit', # added\n",
        "    'mst': 'Medical Social Work',\n",
        "    'medical social work': 'Medical Social Work', # added\n",
        "    'ped': 'Pediatrics',\n",
        "    'pediatrics': 'Pediatrics', # added\n",
        "    'pead': 'Pediatrics', # added\n",
        "    'paed': 'Pediatrics', # added\n",
        "    'iss': 'Intensive Surgical Services',\n",
        "    'ISS': 'Intensive Surgical Services',\n",
        "    'intensive surgical services': 'Intensive Surgical Services', # added\n",
        "    'obg': 'Obstetrics and Gynecology',\n",
        "    'obstetrics and gynecology': 'Obstetrics and Gynecology', # added\n",
        "    'eme': 'Emergency Medicine',\n",
        "    'emergency medicine': 'Emergency Medicine', # added\n",
        "    'emera': 'Emergency Medicine', # added\n",
        "    'sur': 'Surgery',\n",
        "    'surgery': 'Surgery', # added\n",
        "    'mat': 'Maternity',\n",
        "    'maternity': 'Maternity', # added\n",
        "    'neurol': 'Neurology',\n",
        "    'neurology': 'Neurology', # added\n",
        "    'mch': 'Maternal and Child Health',\n",
        "    'maternal and child health': 'Maternal and Child Health', # added\n",
        "    'ant': 'Anesthesiology',\n",
        "    'anes': 'Anesthesiology', # added\n",
        "    'mbh': 'Medical',\n",
        "    'lab': 'Laboratory',\n",
        "    'tb': 'Tuberculosis',\n",
        "    'oncology': 'Oncology',\n",
        "    'onc': 'Oncology',\n",
        "    'onc p': 'Oncology',\n",
        "    'path': 'Pathology',\n",
        "    'Path': 'Pathology',\n",
        "    'ent': 'Ear, Nose, and Throat',  # Added 'ent' as Ear, Nose, and Throat\n",
        "    'du': 'Unknown',  # Added 'du' as Unknown (or handle as appropriate)\n",
        "    'pn': 'Unknown',  # Added 'pn' as Unknown (or handle as appropriate)\n",
        "    'psy': 'Psychiatry',  # Added 'psy' as Psychiatry\n",
        "    'neo': 'Neonatology',  # Added 'neo' as Neonatology\n",
        "    'acute': 'Acute Care',  # Added 'acute' as Acute Care\n",
        "    'e/w': 'Unknown',  # Added 'e/w' as Unknown (or handle as appropriate)\n",
        "    'ate': 'Unknown',  # Added 'ate' as Unknown (or handle as appropriate)\n",
        "    'dental': 'Dental',  # Added 'dental' as Dental\n",
        "    'highri': 'Unknown',  # Added 'highri' as Unknown (or handle as appropriate)\n",
        "    'pnw': 'Unknown',  # Added 'pnw' as Unknown (or handle as appropriate)\n",
        "    'c/w': 'Unknown',  # Added 'c/w' as Unknown (or handle as appropriate)\n",
        "    'gy': 'Gynecology',  # Added 'gy' as Gynecology\n",
        "    'op': 'Operating Room',  # Added 'op' as Operating Room\n",
        "    'post': 'Post-operative',  # Added 'post' as Post-operative\n",
        "    # ... add more mappings as needed ...\n",
        "    'va': 'Unknown',  # Added 'va' as Unknown (or handle as appropriate)\n",
        "    'car': 'Cardiology',  # Added 'car' as Cardiology\n",
        "    'pat': 'Pathology',  # Added 'pat' as Pathology (or could be Patient, adjust as needed)\n",
        "    'out': 'Outpatient Department',  # Added 'out' as Outpatient Department\n",
        "    'cli': 'Clinic',  # Added 'cli' as Clinic\n",
        "    'unk': 'Unknown',  # Added 'unk' as Unknown\n",
        "    'com': 'Community',  # Added 'com' as Community (or could be Communication, adjust as needed)\n",
        "    'hos': 'Hospital',  # Added 'hos' as Hospital#Ask prof\n",
        "    'f': 'Unknown',  # Added 'f' as Unknown (likely not a department, handle as appropriate)\n",
        "    'm,ed': 'Medicine',  # Added 'm,ed' as Medicine (assuming a typo for 'med')\n",
        "    'oaed': 'Unknown',  # Added 'oaed' as Unknown (or handle as appropriate)\n",
        "    'pead1': 'Pediatrics',  # Added 'pead1' as Pediatrics (assuming a variation)\n",
        "    'pad': 'Pediatrics',  # Added 'pad' as Pediatrics (assuming a variation)\n",
        "    'th': 'Theater',  # Added 'th' as Unknown (or handle as appropriate)\n",
        "    #'pediatrics1': 'Pediatrics',  # Added 'pediatrics1' as Pediatrics (assuming a variation)\n",
        "    'unknown': 'Unknown',  # Added 'unknown' as Unknown\n",
        "    #'pediatrics2': 'Pediatrics',  # Added 'pediatrics2' as Pediatrics (assuming a variation)\n",
        "    # ... add more mappin\n",
        "    #replace all nan with Unknown\n",
        "    np.nan: 'Unknown'\n",
        "}\n",
        "\n",
        "# Assuming your department column is named 'Department'\n",
        "urine_data['Department'] = urine_data['Department'].str.lower().replace(department_mapping)"
      ]
    },
    {
      "cell_type": "code",
      "execution_count": null,
      "metadata": {
        "id": "3eUkNStSO1f5"
      },
      "outputs": [],
      "source": []
    },
    {
      "cell_type": "code",
      "execution_count": null,
      "metadata": {
        "id": "JK0HbtDYO1f6"
      },
      "outputs": [],
      "source": [
        "# ... (your existing code) ...\n",
        "\n",
        "# Get all column names as a list\n",
        "all_columns = urine_data.columns.tolist()\n",
        "\n",
        "# Print the list with each column name on a new line\n",
        "for column in all_columns:\n",
        "    print(column)\n",
        "\n",
        "# ... (rest of your code) ..."
      ]
    },
    {
      "cell_type": "code",
      "execution_count": null,
      "metadata": {
        "id": "E62ccsKfO1f6"
      },
      "outputs": [],
      "source": [
        "# List of antibiotics to keep\n",
        "#\n",
        "selected_antibiotics = [\n",
        "    'Amoxicillin', 'Amoxicillin/Clavulanic Acid', 'Ampicillin', 'Ampicillin/Sulbactam',\n",
        "    'Azlocillin', 'Aztreonam', 'Cefaclor', 'Cefazolin', 'Ceftazidime', 'Cefotaxime',\n",
        "    'Ceftriaxone', 'Ciprofloxacin', 'Clindamycin', 'Chloramphenicol',\n",
        "    'Erythromycin', 'Gentamicin', 'Imipenem', 'Meropenem', 'Moxifloxacin',\n",
        "    'Nitrofurantoin', 'Ofloxacin', 'Oxacillin', 'Vancomycin', 'Penicillin',\n",
        "    'Sulfamethoxazole', 'Cefoxitin 30 mg',  # if used for MRSA detection\n",
        "    #'Tetracycline', 'Doxycycline'\n",
        "    #'Chlortetracycline',\n",
        "]\n",
        "\n",
        "\n",
        "# Extract the full column names (_I, _R, _S) for selected antibiotics\n",
        "selected_antibiotic_columns = []\n",
        "for antibiotic in selected_antibiotics:\n",
        "    selected_antibiotic_columns.extend([f\"{antibiotic}_I\", f\"{antibiotic}_R\", f\"{antibiotic}_S\"])\n",
        "\n",
        "# Auto-detect non-antibiotic columns (i.e., columns without \"_I\", \"_R\", or \"_S\" suffix)\n",
        "non_antibiotic_columns = [col for col in urine_data.columns if not any(col.endswith(suffix) for suffix in [\"_I\", \"_R\", \"_S\"])]\n",
        "\n",
        "# Combine selected antibiotic columns with auto-detected non-antibiotic columns\n",
        "final_columns = non_antibiotic_columns+selected_antibiotic_columns\n",
        "\n",
        "# Ensure only existing columns are selected to avoid errors\n",
        "final_columns = [col for col in final_columns if col in urine_data.columns]\n",
        "\n",
        "# Filter the DataFrame\n",
        "urine_data = urine_data[final_columns]\n",
        "\n",
        "# Display the first few rows\n",
        "print(urine_data.head())"
      ]
    },
    {
      "cell_type": "code",
      "execution_count": null,
      "metadata": {
        "id": "ayOvQ7nmO1f7"
      },
      "outputs": [],
      "source": []
    },
    {
      "cell_type": "code",
      "execution_count": null,
      "metadata": {
        "id": "APcH3dP_O1f7"
      },
      "outputs": [],
      "source": [
        "#display all colums in urine_data\n",
        "\n",
        "# ... (your existing code) ...\n",
        "\n",
        "# Get all column names as a list\n",
        "all_columns = urine_data.columns.tolist()\n",
        "\n",
        "# Print the list with each column name on a new line\n",
        "for column in all_columns:\n",
        "    print(column)\n",
        "\n",
        "# ... (rest of your code) ..."
      ]
    },
    {
      "cell_type": "code",
      "execution_count": null,
      "metadata": {
        "id": "_MNYGgAhO1f8"
      },
      "outputs": [],
      "source": [
        "# Step: Microbiologically valid antibiotic-organism filtering\n",
        "\n",
        "# Define organism groups\n",
        "gram_negatives = ['Escherichia coli', 'Klebsiella spp.', 'Klebsiella pneumoniae', 'Citrobacter spp.']\n",
        "gram_positives = ['Enterococcus spp.', 'Staphylococcus aureus', 'Staphylococcus spp.']\n",
        "\n",
        "# Define antibiotics invalid for Gram-negatives\n",
        "invalid_for_gram_neg = [\n",
        "'Vancomycin', 'Linezolid', 'Bacitracin', 'Oxacillin', 'Penicillin', 'Erythromycin', 'Rifampicin',\n",
        "    'Clindamycin'\n",
        "]\n",
        "\n",
        "# Define antibiotics invalid for Gram-positives\n",
        "invalid_for_gram_pos = [\n",
        "    'Colistin', 'Aztreonam', 'Ceftazidime', 'Imipenem', 'Cefepime', 'Ciprofloxacin',\n",
        "    'Ceftriaxone', 'Cefotaxime', 'Cefuroxime', 'Nitrofurantoin'  # depending on site\n",
        "]\n",
        "\n",
        "# Clean entries not applicable based on organism group\n",
        "for ab in invalid_for_gram_neg:\n",
        "    for suffix in ['_S', '_I', '_R']:\n",
        "        col = f\"{ab}{suffix}\"\n",
        "        if col in urine_data.columns:\n",
        "            urine_data.loc[urine_data['Organism'].isin(gram_negatives), col] = pd.NA\n",
        "\n",
        "for ab in invalid_for_gram_pos:\n",
        "    for suffix in ['_S', '_I', '_R']:\n",
        "        col = f\"{ab}{suffix}\"\n",
        "        if col in urine_data.columns:\n",
        "            urine_data.loc[urine_data['Organism'].isin(gram_positives), col] = pd.NA"
      ]
    },
    {
      "cell_type": "code",
      "execution_count": null,
      "metadata": {
        "id": "Ps76RDYFO1f-"
      },
      "outputs": [],
      "source": []
    },
    {
      "cell_type": "code",
      "execution_count": null,
      "metadata": {
        "id": "0wMQMXDPO1f-"
      },
      "outputs": [],
      "source": []
    },
    {
      "cell_type": "code",
      "execution_count": null,
      "metadata": {
        "id": "QQ79miGhO1f_"
      },
      "outputs": [],
      "source": [
        "#Let us get the minimum and maximum dates\n",
        "print(urine_data['Specimen date'].min())\n",
        "print(urine_data['Specimen date'].max())"
      ]
    },
    {
      "cell_type": "code",
      "execution_count": null,
      "metadata": {
        "id": "-GCDDWGvO1gA"
      },
      "outputs": [],
      "source": []
    },
    {
      "cell_type": "code",
      "execution_count": null,
      "metadata": {
        "id": "cg1VMJxZO1gB"
      },
      "outputs": [],
      "source": [
        "#print unique years from the Specimen Dates\n",
        "print(urine_data['Specimen date'].dt.year.unique())\n",
        "#print data for 2018\n",
        "#print(urine_data[urine_data['Year'] == 2018])"
      ]
    },
    {
      "cell_type": "code",
      "execution_count": null,
      "metadata": {
        "id": "zFdy3r-iO1gC"
      },
      "outputs": [],
      "source": [
        "#print unique age\n",
        "print(urine_data['Age'].unique())"
      ]
    },
    {
      "cell_type": "markdown",
      "metadata": {
        "id": "YJQHXo1vO1gE"
      },
      "source": []
    },
    {
      "cell_type": "code",
      "execution_count": null,
      "metadata": {
        "id": "BKo4XnTmO1gI"
      },
      "outputs": [],
      "source": [
        "#urine data length\n",
        "print(len(urine_data))"
      ]
    },
    {
      "cell_type": "code",
      "execution_count": null,
      "metadata": {
        "id": "eTidNk6JO1gK"
      },
      "outputs": [],
      "source": [
        "print(urine_data['Sex'].unique())"
      ]
    },
    {
      "cell_type": "code",
      "execution_count": null,
      "metadata": {
        "id": "J4LytS5HO1gV"
      },
      "outputs": [],
      "source": []
    },
    {
      "cell_type": "code",
      "execution_count": null,
      "metadata": {
        "id": "7LuM-rc7O1gV"
      },
      "outputs": [],
      "source": []
    },
    {
      "cell_type": "code",
      "execution_count": null,
      "metadata": {
        "id": "5kE3a1zwO1gW"
      },
      "outputs": [],
      "source": [
        "#ensuring that we have data that has culture and sensitivity\n",
        "# Assuming your DataFrame is named 'urine_data'\n",
        "encoded_columns = urine_data.columns[urine_data.columns.str.endswith(('_I', '_R', '_S'))]\n",
        "\n",
        "# Get rows where all encoded columns are 0\n",
        "rows_with_all_zeros = urine_data[~(urine_data[encoded_columns].eq(1).any(axis=1))]\n",
        "# Get indices of rows to drop\n",
        "rows_to_drop_indices = rows_with_all_zeros.index\n",
        "\n",
        "# Drop the rows\n",
        "urine_data = urine_data.drop(rows_to_drop_indices)\n",
        "\n",
        "# Print the shape of the DataFrame before and after dropping rows\n",
        "print(\"Shape before dropping:\", urine_data.shape)"
      ]
    },
    {
      "cell_type": "markdown",
      "metadata": {
        "id": "l7JF8z-gO1gX"
      },
      "source": []
    },
    {
      "cell_type": "code",
      "execution_count": null,
      "metadata": {
        "id": "u-BmCC8CO1gY"
      },
      "outputs": [],
      "source": [
        "urine_data.head()"
      ]
    },
    {
      "cell_type": "code",
      "execution_count": null,
      "metadata": {
        "id": "YNJMCw2FO1gZ"
      },
      "outputs": [],
      "source": []
    },
    {
      "cell_type": "code",
      "execution_count": null,
      "metadata": {
        "id": "TvylHbKMO1gZ"
      },
      "outputs": [],
      "source": []
    },
    {
      "cell_type": "code",
      "execution_count": null,
      "metadata": {
        "id": "TdcTA-VrO1ga"
      },
      "outputs": [],
      "source": [
        "# STEP 1: Count occurrences by organism and sex\n",
        "organism_counts = urine_data.groupby(['Organism', 'Sex'], observed=False)['Organism'].size().unstack(fill_value=0)\n",
        "\n",
        "# STEP 2: Rename columns\n",
        "organism_counts.columns = ['Female', 'Male']\n",
        "\n",
        "# STEP 3: Compute total isolates\n",
        "organism_counts['Total'] = organism_counts['Female'] + organism_counts['Male']\n",
        "\n",
        "# STEP 4: Filter organisms with >30 isolates\n",
        "organism_counts_filtered = organism_counts[organism_counts['Total'] > 25].copy()\n",
        "\n",
        "# STEP 5: Filter the main urine_data accordingly\n",
        "organisms_over_25 = organism_counts_filtered.index.tolist()\n",
        "urine_data = urine_data[urine_data['Organism'].isin(organisms_over_25)].copy()\n",
        "\n",
        "# STEP 6: Add a total row\n",
        "column_totals = organism_counts_filtered[['Female', 'Male', 'Total']].sum()\n",
        "total_row = pd.DataFrame([column_totals], index=['Column Total'])\n",
        "\n",
        "# STEP 7: Combine with filtered counts\n",
        "organism_counts_with_totals = pd.concat([organism_counts_filtered, total_row])\n",
        "\n",
        "# STEP 8: Compute percentages\n",
        "organism_counts_with_totals['Female (%)'] = (organism_counts_with_totals['Female'] / organism_counts_with_totals['Total']) * 100\n",
        "organism_counts_with_totals['Male (%)'] = (organism_counts_with_totals['Male'] / organism_counts_with_totals['Total']) * 100\n",
        "organism_counts_with_totals['Total (%)'] = (\n",
        "    organism_counts_with_totals['Total'] / organism_counts_with_totals.loc['Column Total', 'Total'] * 100\n",
        ")\n",
        "\n",
        "# STEP 9: Format percentages to 1 decimal place\n",
        "for col in ['Female (%)', 'Male (%)', 'Total (%)']:\n",
        "    organism_counts_with_totals[col] = organism_counts_with_totals[col].map('{:.1f}'.format)\n",
        "\n",
        "# STEP 10: Display final summary table\n",
        "print(organism_counts_with_totals)"
      ]
    },
    {
      "cell_type": "code",
      "execution_count": null,
      "metadata": {
        "id": "ynm1P_y9O1ga"
      },
      "outputs": [],
      "source": []
    },
    {
      "cell_type": "code",
      "execution_count": null,
      "metadata": {
        "id": "hziUhEyCO1gb"
      },
      "outputs": [],
      "source": []
    },
    {
      "cell_type": "code",
      "execution_count": null,
      "metadata": {
        "id": "xbKSuP2AO1gb"
      },
      "outputs": [],
      "source": [
        "# STEP 11: Perform chi-square test on the contingency table\n",
        "# We exclude the 'Total' column since it's not needed for the test\n",
        "contingency_table = organism_counts_filtered[['Female', 'Male']].values\n",
        "\n",
        "# Chi-square test\n",
        "chi2_stat, p_value, dof, expected = chi2_contingency(contingency_table)\n",
        "\n",
        "# Print test results\n",
        "print(\"\\nChi-square Test of Independence:\")\n",
        "print(f\"Chi-square statistic: {chi2_stat:.3f}\")\n",
        "print(f\"Degrees of freedom: {dof}\")\n",
        "print(f\"P-value: {p_value:.4f}\")\n",
        "\n",
        "# Optional: show expected frequencies for each organism\n",
        "expected_df = pd.DataFrame(expected, columns=['Expected Female', 'Expected Male'])\n",
        "expected_df.index = organism_counts_filtered.index\n",
        "print(\"\\nExpected frequencies:\")\n",
        "print(expected_df)"
      ]
    },
    {
      "cell_type": "code",
      "execution_count": null,
      "metadata": {
        "id": "eZjrayB3O1gc"
      },
      "outputs": [],
      "source": []
    },
    {
      "cell_type": "code",
      "execution_count": null,
      "metadata": {
        "id": "5-NodwJ9O1gc"
      },
      "outputs": [],
      "source": [
        "# Sample DataFrame - replace this with your actual data\n",
        "# organism_counts_filtered = pd.DataFrame({\n",
        "#     'Female': [...],\n",
        "#     'Male': [...]\n",
        "# }, index=['Organism1', 'Organism2', ...])\n",
        "\n",
        "# Calculate total female and male across all organisms (used for expected values)\n",
        "col_totals = organism_counts_filtered.sum()\n",
        "grand_total = col_totals.sum()\n",
        "\n",
        "# List to store results\n",
        "results = []\n",
        "\n",
        "# Perform chi-square test for each organism\n",
        "for organism, row in organism_counts_filtered.iterrows():\n",
        "    observed = [[row['Female'], row['Male']]]\n",
        "    row_total = row['Female'] + row['Male']\n",
        "\n",
        "    # Expected values based on overall female/male proportions\n",
        "    expected_female = row_total * (col_totals['Female'] / grand_total)\n",
        "    expected_male = row_total * (col_totals['Male'] / grand_total)\n",
        "    expected = [[expected_female, expected_male]]\n",
        "\n",
        "    chi2_stat, p_value, dof, _ = chi2_contingency([observed[0], expected[0]], correction=False)\n",
        "\n",
        "    results.append({\n",
        "        'Organism': organism,\n",
        "        'Female': row['Female'],\n",
        "        'Male': row['Male'],\n",
        "        'Chi-square': round(chi2_stat, 3),\n",
        "        'P-value': round(p_value, 4)\n",
        "    })\n",
        "\n",
        "# Create and display result DataFrame\n",
        "results_df = pd.DataFrame(results)\n",
        "print(\"\\nChi-square Test Results by Organism:\")\n",
        "print(results_df.to_string(index=False))"
      ]
    },
    {
      "cell_type": "code",
      "execution_count": null,
      "metadata": {
        "id": "zwL1_51WO1gd"
      },
      "outputs": [],
      "source": []
    },
    {
      "cell_type": "code",
      "execution_count": null,
      "metadata": {
        "id": "nLvumTqfO1gd"
      },
      "outputs": [],
      "source": []
    },
    {
      "cell_type": "code",
      "execution_count": null,
      "metadata": {
        "id": "KP-4OyKSO1gd"
      },
      "outputs": [],
      "source": []
    },
    {
      "cell_type": "code",
      "execution_count": null,
      "metadata": {
        "id": "iokioeoaO1gd"
      },
      "outputs": [],
      "source": [
        "# Get the columns related to resistance (ending with _I, _R, _S)\n",
        "resistance_columns = urine_data.columns[urine_data.columns.str.endswith(('_I', '_R', '_S'))]\n",
        "\n",
        "# Group by organism and sum the resistance columns\n",
        "organism_resistance_counts = urine_data.groupby('Organism')[resistance_columns].sum()\n",
        "\n",
        "# Separate R, I, and S columns\n",
        "R_columns = [col for col in resistance_columns if col.endswith('_R')]\n",
        "I_columns = [col for col in resistance_columns if col.endswith('_I')]\n",
        "S_columns = [col for col in resistance_columns if col.endswith('_S')]\n",
        "\n",
        "# Calculate total R, I, and S for each organism\n",
        "organism_resistance_counts['Total_R'] = organism_resistance_counts[R_columns].sum(axis=1)\n",
        "organism_resistance_counts['Total_I'] = organism_resistance_counts[I_columns].sum(axis=1)\n",
        "organism_resistance_counts['Total_S'] = organism_resistance_counts[S_columns].sum(axis=1)\n",
        "\n",
        "# Display the results\n",
        "print(organism_resistance_counts[['Total_R', 'Total_I', 'Total_S']])"
      ]
    },
    {
      "cell_type": "code",
      "execution_count": null,
      "metadata": {
        "id": "rJXLWpWDO1gd"
      },
      "outputs": [],
      "source": []
    },
    {
      "cell_type": "code",
      "execution_count": null,
      "metadata": {
        "id": "SJQFxMOGO1ge"
      },
      "outputs": [],
      "source": [
        "# Calculate descriptive statistics for the 'Age' column\n",
        "age_stats = urine_data['Age'].describe()\n",
        "\n",
        "# Compute interquartile range\n",
        "iqr = int(age_stats['75%'] - age_stats['25%'])  # Convert IQR to integer\n",
        "\n",
        "# Print the descriptive statistics as integers\n",
        "print(\"Age Descriptive Statistics:\")\n",
        "for stat_name, stat_value in age_stats.items():\n",
        "    if stat_name in ['25%', '50%', '75%']:  # Convert percentiles to integers\n",
        "        print(f\"{stat_name}: {int(stat_value)}\")\n",
        "    else:\n",
        "        print(f\"{stat_name}: {int(stat_value)}\")  # Convert other stats to integers\n",
        "\n",
        "# Print interquartile range as integer\n",
        "print(\"\\nInterquartile Range (IQR):\", iqr)"
      ]
    },
    {
      "cell_type": "code",
      "execution_count": null,
      "metadata": {
        "id": "xscPHYuvO1ge"
      },
      "outputs": [],
      "source": []
    },
    {
      "cell_type": "code",
      "execution_count": null,
      "metadata": {
        "id": "pxA-_vjlO1ge"
      },
      "outputs": [],
      "source": [
        "# Replace 'f' with 'F' in the 'Sex' column\n",
        "# Replace 'f' with 'F' in the 'Sex' column using .loc\n",
        "urine_data.loc[:, 'Sex'] = urine_data['Sex'].replace({'f': 'F'})\n",
        "urine_data.loc[:, 'Sex'] = urine_data['Sex'].replace({'m': 'M'})\n",
        "\n",
        "\n",
        "# Verify the changes\n",
        "gender_counts = urine_data['Sex'].value_counts()\n",
        "print(\"Gender Statistics:\")\n",
        "print(gender_counts)\n",
        "#compute percentages\n",
        "#gender_percentages = gender_counts / len(urine_data) * 100\n",
        "gender_percentages = {gender: round(count / len(urine_data) * 100, 2)\n",
        "                      for gender, count in gender_counts.items()}\n",
        "print(\"Gender Percentages:\")\n",
        "print(gender_percentages)\n",
        "print(gender_percentages['M'] / gender_percentages['F'])\n",
        "#print(urine_data['Sex'].value_counts())\n",
        "#get male to female ratio in format 1: 1.1\n",
        "# Calculate and format the male-to-female ratio\n",
        "male_to_female_ratio = gender_percentages['M'] / gender_percentages['F']\n",
        "print(f\"Female to Male Ratio: 1:{male_to_female_ratio:.1f}\") # Format to one decimal place"
      ]
    },
    {
      "cell_type": "code",
      "execution_count": null,
      "metadata": {
        "id": "iVj0X8N0O1gf"
      },
      "outputs": [],
      "source": []
    },
    {
      "cell_type": "code",
      "execution_count": null,
      "metadata": {
        "id": "3epGfzG_O1gf"
      },
      "outputs": [],
      "source": []
    },
    {
      "cell_type": "code",
      "execution_count": null,
      "metadata": {
        "id": "ym-fDDOJO1gf"
      },
      "outputs": [],
      "source": [
        "# Get the length (number of rows) of the urine_data DataFrame\n",
        "data_length = len(urine_data)\n",
        "\n",
        "# Print the length\n",
        "print(\"Length of urine_data DataFrame:\", data_length)"
      ]
    },
    {
      "cell_type": "code",
      "execution_count": null,
      "metadata": {
        "id": "XDUpVSA-O1gg"
      },
      "outputs": [],
      "source": [
        "#organis counts"
      ]
    },
    {
      "cell_type": "code",
      "execution_count": null,
      "metadata": {
        "id": "kJX0paXHO1gg"
      },
      "outputs": [],
      "source": [
        "uploaded = files.upload()  # Upload your .ttf files here"
      ]
    },
    {
      "cell_type": "code",
      "execution_count": null,
      "metadata": {
        "id": "Iz7p3L5WO1gg"
      },
      "outputs": [],
      "source": []
    },
    {
      "cell_type": "code",
      "execution_count": null,
      "metadata": {
        "id": "BcCX603cO1gg"
      },
      "outputs": [],
      "source": []
    },
    {
      "cell_type": "code",
      "execution_count": null,
      "metadata": {
        "id": "K94a7IQcO1gg"
      },
      "outputs": [],
      "source": [
        "# Load Arial font (adjust path to ARIAL.TTF if needed)\n",
        "arial_font = FontProperties(fname='ARIAL.TTF')\n",
        "\n",
        "# Extract counts from processed DataFrame\n",
        "organisms = organism_counts_filtered_manual.index.tolist()\n",
        "female_counts = organism_counts_filtered_manual['Female'].values\n",
        "male_counts = organism_counts_filtered_manual['Male'].values\n",
        "total_counts = organism_counts_filtered_manual['Total'].values\n",
        "\n",
        "x = np.arange(len(organisms))\n",
        "width = 0.25\n",
        "\n",
        "# Create plot\n",
        "fig, ax = plt.subplots(figsize=(12, 6))\n",
        "\n",
        "# Bars: Total, Female, Male\n",
        "ax.bar(x - width, total_counts, width, label='Total', color='steelblue')\n",
        "ax.bar(x, female_counts, width, label='Female', color='mediumseagreen')\n",
        "ax.bar(x + width, male_counts, width, label='Male', color='indianred')\n",
        "\n",
        "# Labels and formatting\n",
        "ax.set_xlabel('Organism', fontproperties=arial_font, fontsize=12)\n",
        "ax.set_ylabel('Number of Isolates', fontproperties=arial_font, fontsize=12)\n",
        "ax.set_title('Distribution of Major Uropathogens by Sex (n = 939)', fontproperties=arial_font, fontsize=14)\n",
        "ax.set_xticks(x)\n",
        "ax.set_xticklabels(organisms, rotation=45, ha='right', fontproperties=arial_font, fontsize=10)\n",
        "#ax.legend(loc='upper left', prop=arial_font)\n",
        "plt.yticks(fontproperties=arial_font, fontsize=10)\n",
        "\n",
        "# Save as Dove-compliant figure\n",
        "output_file = \"MRRH2024_Figure1.jpg\"\n",
        "plt.tight_layout()\n",
        "fig.savefig(output_file, format='jpg', dpi=300)\n",
        "plt.show()\n",
        "#dowload the Figure\n",
        "#from google.colab import files\n",
        "files.download(output_file)"
      ]
    },
    {
      "cell_type": "code",
      "execution_count": null,
      "metadata": {
        "id": "MmOFUyq1O1gh"
      },
      "outputs": [],
      "source": []
    },
    {
      "cell_type": "code",
      "execution_count": null,
      "metadata": {
        "id": "m2ZDB2q-O1gi"
      },
      "outputs": [],
      "source": []
    },
    {
      "cell_type": "code",
      "execution_count": null,
      "metadata": {
        "id": "tAeHbwgfO1gi"
      },
      "outputs": [],
      "source": []
    },
    {
      "cell_type": "code",
      "execution_count": null,
      "metadata": {
        "id": "2DJB6tX_O1gj"
      },
      "outputs": [],
      "source": [
        "# Define age bins and labels\n",
        "bins = [0, 15, 26, 36, 46, 66, float('inf')]  # Define bin edges\n",
        "labels = ['0-14', '15-25', '26-35', '36-45', '46-65', '>65']  # Define labels\n",
        "\n",
        "# Assign Age Group to the DataFrame\n",
        "urine_data['Age Group'] = pd.cut(urine_data['Age'], bins=bins, labels=labels, right=False)\n",
        "# prompt: code to calculate organism_counts_by_age_group\n",
        "organism_counts_by_age_group = urine_data.groupby(['Organism', 'Age Group'])['Organism'].count().unstack(fill_value=0)\n",
        "organism_counts_by_age_group"
      ]
    },
    {
      "cell_type": "code",
      "execution_count": null,
      "metadata": {
        "id": "4X3CBwyOO1gj"
      },
      "outputs": [],
      "source": []
    },
    {
      "cell_type": "code",
      "execution_count": null,
      "metadata": {
        "id": "CdUExlwcO1gk"
      },
      "outputs": [],
      "source": [
        "#"
      ]
    },
    {
      "cell_type": "code",
      "execution_count": null,
      "metadata": {
        "id": "n0QsAFsvO1gk"
      },
      "outputs": [],
      "source": []
    },
    {
      "cell_type": "code",
      "execution_count": null,
      "metadata": {
        "id": "KzsBTaA6O1gk"
      },
      "outputs": [],
      "source": [
        "# Prepare the contingency table for Organism and Age Group\n",
        "# organism_counts_by_age_group already has Organisms as index and Age Groups as columns\n",
        "contingency_table_age = organism_counts_by_age_group.values\n",
        "\n",
        "# Perform the Chi-square test\n",
        "chi2_stat_age, p_value_age, dof_age, expected_age = chi2_contingency(contingency_table_age)\n",
        "\n",
        "# Print test results for age group analysis\n",
        "print(\"\\nChi-square Test of Independence (Organism vs. Age Group):\")\n",
        "print(f\"Chi-square statistic: {chi2_stat_age:.3f}\")\n",
        "print(f\"Degrees of freedom: {dof_age}\")\n",
        "print(f\"P-value: {p_value_age:.4f}\")\n",
        "\n",
        "# Optional: show expected frequencies\n",
        "expected_age_df = pd.DataFrame(expected_age, columns=organism_counts_by_age_group.columns)\n",
        "expected_age_df.index = organism_counts_by_age_group.index\n",
        "print(\"\\nExpected frequencies (Organism vs. Age Group):\")\n",
        "print(expected_age_df)"
      ]
    },
    {
      "cell_type": "code",
      "execution_count": null,
      "metadata": {
        "id": "qHGeHeCYO1gl"
      },
      "outputs": [],
      "source": [
        "#check unique sex\n",
        "print(urine_data['Sex'].unique())"
      ]
    },
    {
      "cell_type": "code",
      "execution_count": null,
      "metadata": {
        "id": "GiF-Ub3XO1gl"
      },
      "outputs": [],
      "source": [
        "# Step 1: Build 3-way contingency: Organism × Age Group × Sex\n",
        "contingency_3d = urine_data.groupby(['Organism', 'Age Group', 'Sex']).size().unstack(fill_value=0)\n",
        "\n",
        "# Step 2: Flatten into 2D table: rows = \"Organism | Age Group\", columns = ['Female', 'Male']\n",
        "flattened = contingency_3d.reset_index()\n",
        "flattened['Group'] = flattened['Organism'] + \" | \" + flattened['Age Group'].astype(str)\n",
        "chi_table = flattened[['Group', 'F', 'M']].set_index('Group')\n",
        "\n",
        "# Step 3: Remove any rows with a zero in either Female or Male count\n",
        "chi_table_filtered = chi_table[(chi_table != 0).all(axis=1)]\n",
        "\n",
        "# Step 4: Perform Chi-square test\n",
        "chi2_stat, p_value, dof, expected = chi2_contingency(chi_table_filtered.values)\n",
        "\n",
        "# Step 5: Format expected frequencies\n",
        "expected_df = pd.DataFrame(expected, index=chi_table_filtered.index, columns=chi_table_filtered.columns)\n",
        "\n",
        "# Display results\n",
        "print(\"Chi-square Test of Independence (Organism + Age Group vs. Sex):\")\n",
        "print(f\"Chi-square statistic: {chi2_stat:.3f}\")\n",
        "print(f\"Degrees of freedom: {dof}\")\n",
        "print(f\"P-value: {p_value:.4f}\")\n",
        "print(\"\\nExpected Frequencies:\")\n",
        "print(expected_df)"
      ]
    },
    {
      "cell_type": "code",
      "execution_count": null,
      "metadata": {
        "id": "QnL6tJfdO1gm"
      },
      "outputs": [],
      "source": []
    },
    {
      "cell_type": "code",
      "execution_count": null,
      "metadata": {
        "id": "G-CN2zvmO1gm"
      },
      "outputs": [],
      "source": [
        "# STEP 1: Prepare the contingency table\n",
        "contingency_table_age = organism_counts_by_age_group.values\n",
        "\n",
        "# STEP 2: Perform the Chi-square test\n",
        "chi2_stat_age, p_value_age, dof_age, expected_age = chi2_contingency(contingency_table_age)\n",
        "\n",
        "# STEP 3: Print Chi-square test results\n",
        "print(\"\\nChi-square Test of Independence (Organism vs. Age Group):\")\n",
        "print(f\"Chi-square statistic: {chi2_stat_age:.3f}\")\n",
        "print(f\"Degrees of freedom: {dof_age}\")\n",
        "print(f\"P-value: {p_value_age:.4f}\")\n",
        "\n",
        "# STEP 4: Show expected frequencies\n",
        "expected_age_df = pd.DataFrame(expected_age, columns=organism_counts_by_age_group.columns)\n",
        "expected_age_df.index = organism_counts_by_age_group.index\n",
        "print(\"\\nExpected frequencies (Organism vs. Age Group):\")\n",
        "print(expected_age_df)\n",
        "\n",
        "# STEP 5: Calculate chi-square contributions for each cell\n",
        "contributions = (contingency_table_age - expected_age) ** 2 / expected_age\n",
        "contribution_df = pd.DataFrame(contributions, index=organism_counts_by_age_group.index, columns=organism_counts_by_age_group.columns)\n",
        "\n",
        "# STEP 6: Sum contributions by age group (columns)\n",
        "age_group_contributions = contribution_df.sum(axis=0)\n",
        "most_significant_age_group = age_group_contributions.idxmax()\n",
        "highest_contribution = age_group_contributions.max()\n",
        "\n",
        "# STEP 7: Print contribution results\n",
        "print(\"\\nChi-square contribution by age group:\")\n",
        "print(age_group_contributions)\n",
        "\n",
        "print(f\"\\nMost statistically significant age group: {most_significant_age_group}\")\n",
        "print(f\"Contribution to Chi-square: {highest_contribution:.4f}\")"
      ]
    },
    {
      "cell_type": "code",
      "execution_count": null,
      "metadata": {
        "id": "1BklK7X8O1gm"
      },
      "outputs": [],
      "source": []
    },
    {
      "cell_type": "code",
      "execution_count": null,
      "metadata": {
        "id": "EQWPwm_RO1gn"
      },
      "outputs": [],
      "source": []
    },
    {
      "cell_type": "code",
      "execution_count": null,
      "metadata": {
        "id": "VfrMr_yyO1gn"
      },
      "outputs": [],
      "source": [
        "# Sample input: replace with your actual organism_counts_by_age_group DataFrame\n",
        "# organism_counts_by_age_group = pd.DataFrame({...}, index=[...])\n",
        "\n",
        "# Store results\n",
        "results = []\n",
        "\n",
        "# Loop through each organism to test its age group distribution\n",
        "for organism, row in organism_counts_by_age_group.iterrows():\n",
        "    # Create a 2D array: [observed counts]\n",
        "    observed = [row.values]\n",
        "\n",
        "    # Create expected frequencies based on age group totals\n",
        "    age_group_totals = organism_counts_by_age_group.sum()\n",
        "    organism_total = row.sum()\n",
        "    grand_total = organism_counts_by_age_group.values.sum()\n",
        "    expected = [(age_group_totals / grand_total) * organism_total]\n",
        "\n",
        "    # Chi-square test\n",
        "    chi2, p, dof, _ = chi2_contingency([observed[0], expected[0]], correction=False)\n",
        "\n",
        "    results.append({\n",
        "        'Organism': organism,\n",
        "        'Chi-square': round(chi2, 3),\n",
        "        'df': dof,\n",
        "        'P-value': round(p, 4)\n",
        "    })\n",
        "\n",
        "# Convert results to DataFrame\n",
        "results_df = pd.DataFrame(results)\n",
        "\n",
        "# Display results\n",
        "print(\"\\nChi-square Test of Independence (Organism vs. Age Group):\")\n",
        "print(results_df.to_string(index=False))"
      ]
    },
    {
      "cell_type": "code",
      "execution_count": null,
      "metadata": {
        "id": "74OD-yczO1gn"
      },
      "outputs": [],
      "source": []
    },
    {
      "cell_type": "code",
      "execution_count": null,
      "metadata": {
        "id": "_2iNh7KxO1go"
      },
      "outputs": [],
      "source": [
        "#list organisms\n",
        "print(urine_data['Organism'].unique())"
      ]
    },
    {
      "cell_type": "markdown",
      "metadata": {
        "id": "nJheLw76O1go"
      },
      "source": []
    },
    {
      "cell_type": "code",
      "execution_count": null,
      "metadata": {
        "id": "CttaRpiXO1go"
      },
      "outputs": [],
      "source": []
    },
    {
      "cell_type": "code",
      "execution_count": null,
      "metadata": {
        "id": "BklKPZkqO1gp"
      },
      "outputs": [],
      "source": [
        "# Load Arial font (adjust path if needed)\n",
        "arial_font = FontProperties(fname='ARIAL.TTF')\n",
        "\n",
        "# Ensure \"Other Organisms\" is last\n",
        "if \"Other Organisms\" in organism_counts_by_age_group.index:\n",
        "    organism_counts_by_age_group = organism_counts_by_age_group.loc[\n",
        "        [org for org in organism_counts_by_age_group.index if org != \"Other Organisms\"] + [\"Other Organisms\"]\n",
        "    ]\n",
        "\n",
        "# Transpose for plotting\n",
        "organism_counts_by_age_group = organism_counts_by_age_group.T\n",
        "\n",
        "# Calculate percentages per organism (i.e., column-wise)\n",
        "totals = organism_counts_by_age_group.sum(axis=0)\n",
        "percentages = organism_counts_by_age_group.divide(totals, axis=1) * 100\n",
        "\n",
        "# Dynamic bar width based on age groups\n",
        "num_organisms = len(organism_counts_by_age_group.index)\n",
        "num_age_groups = len(organism_counts_by_age_group.columns)\n",
        "bar_width = 0.8 / num_age_groups\n",
        "x_pos = np.arange(len(organism_counts_by_age_group.index))\n",
        "\n",
        "# Plot setup\n",
        "fig, ax = plt.subplots(figsize=(14, 6))\n",
        "\n",
        "# Create bars\n",
        "for i, age_group in enumerate(organism_counts_by_age_group.columns):\n",
        "    percents = percentages[age_group]\n",
        "    ax.bar(\n",
        "        x_pos + i * bar_width,\n",
        "        percents,\n",
        "        width=bar_width,\n",
        "        label=age_group\n",
        "    )\n",
        "\n",
        "# Labels and formatting (Arial)\n",
        "ax.set_xlabel('Uropathogen', fontproperties=arial_font, fontsize=12)\n",
        "ax.set_ylabel('Frequency (%)', fontproperties=arial_font, fontsize=12)\n",
        "ax.set_title('Distribution of Uropathogens by Age Group (%)', fontproperties=arial_font, fontsize=14)\n",
        "\n",
        "ax.set_xticks(x_pos + bar_width * (num_age_groups / 2) - bar_width / 2)\n",
        "ax.set_xticklabels(organism_counts_by_age_group.index, rotation=45, ha='right', fontproperties=arial_font, fontsize=10)\n",
        "plt.yticks(fontproperties=arial_font, fontsize=10)\n",
        "#ax.legend(title='Age Group', bbox_to_anchor=(1.05, 1), loc='upper left', prop=arial_font)\n",
        "ax.yaxis.grid(True, linestyle='--', alpha=0.7)\n",
        "\n",
        "# Save and show\n",
        "plt.tight_layout()\n",
        "plt.savefig(\"MRRH2024_Figure2.jpg\", format='jpg', dpi=300)\n",
        "plt.show()\n",
        "#dowload the Figure\n",
        "files.download(\"MRRH2024_Figure2.jpg\")"
      ]
    },
    {
      "cell_type": "code",
      "execution_count": null,
      "metadata": {
        "id": "XQN7jrnSO1gp"
      },
      "outputs": [],
      "source": []
    },
    {
      "cell_type": "code",
      "execution_count": null,
      "metadata": {
        "id": "O4XtEpCBO1gp"
      },
      "outputs": [],
      "source": [
        "# ... (your previous code to load, process, and encode urine_data) ...\n",
        "\n",
        "# Select columns containing antibiotic data (encoded columns)\n",
        "antibiotic_columns = urine_data.columns[urine_data.columns.str.endswith(('_I', '_R', '_S'))]  # Corrected line\n",
        "\n",
        "# Create a dictionary to store the counts\n",
        "antibiotic_counts = {}\n",
        "\n",
        "# Iterate through antibiotic columns and count I, R, S\n",
        "for column in antibiotic_columns:\n",
        "    antibiotic_name = column[:-2]  # Extract antibiotic name from column name\n",
        "\n",
        "    # Get the category (I, R, or S) from the column name\n",
        "    category = column[-1]\n",
        "\n",
        "    # Store the count in the dictionary, creating a new entry for the antibiotic if needed\n",
        "    if antibiotic_name not in antibiotic_counts:\n",
        "        antibiotic_counts[antibiotic_name] = {'I': 0, 'R': 0, 'S': 0}  # Initialize counts to 0\n",
        "\n",
        "    antibiotic_counts[antibiotic_name][category] = urine_data[column].sum()\n",
        "# Convert the dictionary to a DataFrame for better display\n",
        "antibiotic_counts_df = pd.DataFrame(antibiotic_counts).T\n",
        "antibiotic_counts_df.index.name = 'Antibiotic'\n",
        "# Display the results\n",
        "print(antibiotic_counts_df)\n",
        "\n",
        "print(len(urine_data))"
      ]
    },
    {
      "cell_type": "code",
      "execution_count": null,
      "metadata": {
        "id": "jI1ShCq8O1gq"
      },
      "outputs": [],
      "source": []
    },
    {
      "cell_type": "code",
      "execution_count": null,
      "metadata": {
        "id": "zlOFm6iZO1gq"
      },
      "outputs": [],
      "source": [
        "#Let us remove the antibiotics that have only zeros for I, R and S from our encoded columns"
      ]
    },
    {
      "cell_type": "code",
      "execution_count": null,
      "metadata": {
        "id": "SVMS044nO1gr"
      },
      "outputs": [],
      "source": [
        "# STEP 1: Load your urine_data DataFrame here\n",
        "# Example:\n",
        "# urine_data = pd.read_csv('your_file.csv')\n",
        "\n",
        "# STEP 2: Select antibiotic AST result columns (e.g., 'CIP_S', 'CIP_R')\n",
        "antibiotic_columns = urine_data.columns[urine_data.columns.str.endswith(('_I', '_R', '_S'))]\n",
        "\n",
        "# STEP 3: Count S, I, R values for each antibiotic\n",
        "antibiotic_counts = {}\n",
        "\n",
        "for column in antibiotic_columns:\n",
        "    antibiotic_name = column[:-2]  # e.g., 'CIP' from 'CIP_R'\n",
        "    category = column[-1]          # 'R', 'I', or 'S'\n",
        "\n",
        "    if antibiotic_name not in antibiotic_counts:\n",
        "        antibiotic_counts[antibiotic_name] = {'S': 0, 'I': 0, 'R': 0}\n",
        "\n",
        "    antibiotic_counts[antibiotic_name][category] = urine_data[column].sum()\n",
        "\n",
        "# STEP 4: Convert to DataFrame for display\n",
        "antibiotic_counts_df = pd.DataFrame(antibiotic_counts).T\n",
        "antibiotic_counts_df.index.name = 'Antibiotic'\n",
        "print(\"Antibiotic Resistance Profile:\")\n",
        "print(antibiotic_counts_df)\n",
        "\n",
        "# STEP 5: Compute number of isolates resistant to at least one antibiotic\n",
        "# Create a mask where any '_I' or '_R' column == 1 → considered resistant\n",
        "resistance_cols = [col for col in antibiotic_columns if col.endswith('_I') or col.endswith('_R')]\n",
        "resistance_flags = urine_data[resistance_cols].sum(axis=1) > 0\n",
        "urine_data['Resistant_to_Any'] = resistance_flags\n",
        "\n",
        "\n",
        "# STEP 6: Total resistant isolates\n",
        "total_resistant = urine_data['Resistant_to_Any'].sum()\n",
        "print(f\"\\nTotal isolates resistant to at least one antibiotic: {total_resistant} / {len(urine_data)}\")\n",
        "\n",
        "# STEP 7: Group by organism\n",
        "resistant_by_organism = urine_data.groupby('Organism')['Resistant_to_Any'].agg(\n",
        "    Resistant_Count='sum',\n",
        "    Total_Isolates='count'\n",
        ")\n",
        "resistant_by_organism['Proportion (%)'] = (resistant_by_organism['Resistant_Count'] / resistant_by_organism['Total_Isolates']) * 100\n",
        "resistant_by_organism = resistant_by_organism.sort_values(by='Resistant_Count', ascending=False).round(1)\n",
        "\n",
        "print(\"\\nResistant Isolates by Organism:\")\n",
        "print(resistant_by_organism)"
      ]
    },
    {
      "cell_type": "code",
      "execution_count": null,
      "metadata": {
        "id": "LgjHmpNAO1gr"
      },
      "outputs": [],
      "source": []
    },
    {
      "cell_type": "code",
      "execution_count": null,
      "metadata": {
        "id": "HiUI9RTzO1gr"
      },
      "outputs": [],
      "source": []
    },
    {
      "cell_type": "code",
      "execution_count": null,
      "metadata": {
        "id": "x9mWUxHXO1gs"
      },
      "outputs": [],
      "source": [
        "data_table.enable_dataframe_formatter()\n",
        "\n",
        "\n",
        "# Select encoded antibiotic susceptibility columns\n",
        "antibiotic_columns = urine_data.columns[urine_data.columns.str.endswith(('_I', '_R', '_S'))]\n",
        "\n",
        "# Initialize dictionary for counting\n",
        "antibiotic_counts = {}\n",
        "\n",
        "for column in antibiotic_columns:\n",
        "    antibiotic_name = column[:-2]  # Strip suffix (_R/_S/_I)\n",
        "    category = column[-1]         # Get suffix (R/S/I)\n",
        "\n",
        "    if antibiotic_name not in antibiotic_counts:\n",
        "        antibiotic_counts[antibiotic_name] = {'Resistant': 0, 'Sensitive': 0, 'Total Culture': 0}\n",
        "\n",
        "    if category in ('I', 'R'):\n",
        "        antibiotic_counts[antibiotic_name]['Resistant'] += urine_data[column].sum()\n",
        "    elif category == 'S':\n",
        "        antibiotic_counts[antibiotic_name]['Sensitive'] += urine_data[column].sum()\n",
        "\n",
        "    # Update total\n",
        "    antibiotic_counts[antibiotic_name]['Total Culture'] = (\n",
        "        antibiotic_counts[antibiotic_name]['Resistant'] +\n",
        "        antibiotic_counts[antibiotic_name]['Sensitive']\n",
        "    )\n",
        "\n",
        "# Construct table\n",
        "antimicrobial_agents = list(antibiotic_counts.keys())\n",
        "table_data = {\n",
        "    'Antimicrobial\\nAgents': antimicrobial_agents,\n",
        "    'No. of Cultures Tested': [],\n",
        "    'Resistant No (%)': []\n",
        "}\n",
        "\n",
        "for agent in antimicrobial_agents:\n",
        "    total = antibiotic_counts[agent]['Total Culture']\n",
        "    r = antibiotic_counts[agent]['Resistant']\n",
        "\n",
        "    table_data['No. of Cultures Tested'].append(total)\n",
        "    table_data['Resistant No (%)'].append(f\"{r} ({r / total * 100:.1f}%)\" if total else '0 (0.0%)')\n",
        "\n",
        "# Create and sort DataFrame\n",
        "susceptibility_table = pd.DataFrame(table_data)\n",
        "susceptibility_table = susceptibility_table.sort_values(by='Antimicrobial\\nAgents')\n",
        "\n",
        "# Display using Colab’s interactive table\n",
        "display(data_table.DataTable(susceptibility_table))"
      ]
    },
    {
      "cell_type": "code",
      "execution_count": null,
      "metadata": {
        "id": "K9Mlq52gO1gs"
      },
      "outputs": [],
      "source": []
    },
    {
      "cell_type": "code",
      "execution_count": null,
      "metadata": {
        "id": "3UQlp_haO1gs"
      },
      "outputs": [],
      "source": [
        "data_table.enable_dataframe_formatter()\n",
        "\n",
        "\n",
        "# Select encoded antibiotic susceptibility columns\n",
        "antibiotic_columns = urine_data.columns[urine_data.columns.str.endswith(('_I', '_R', '_S'))]\n",
        "\n",
        "# Initialize dictionary for counting\n",
        "antibiotic_counts = {}\n",
        "\n",
        "for column in antibiotic_columns:\n",
        "    antibiotic_name = column[:-2].replace('_', ' ').title()  # Clean up name\n",
        "    category = column[-1]\n",
        "\n",
        "    if antibiotic_name not in antibiotic_counts:\n",
        "        antibiotic_counts[antibiotic_name] = {'Resistant': 0, 'Sensitive': 0, 'Total Culture': 0}\n",
        "\n",
        "    if category in ('I', 'R'):\n",
        "        antibiotic_counts[antibiotic_name]['Resistant'] += urine_data[column].sum()\n",
        "    elif category == 'S':\n",
        "        antibiotic_counts[antibiotic_name]['Sensitive'] += urine_data[column].sum()\n",
        "\n",
        "    # Update total\n",
        "    antibiotic_counts[antibiotic_name]['Total Culture'] = (\n",
        "        antibiotic_counts[antibiotic_name]['Resistant'] + antibiotic_counts[antibiotic_name]['Sensitive']\n",
        "    )\n",
        "\n",
        "# Prepare table\n",
        "table_rows = []\n",
        "other_resistant = other_total = 0\n",
        "\n",
        "for agent, stats in antibiotic_counts.items():\n",
        "    total = stats['Total Culture']\n",
        "    r = stats['Resistant']\n",
        "    if total >= 25:\n",
        "        table_rows.append({\n",
        "            'Antimicrobial Agents': agent,\n",
        "            'No. of Cultures Tested': total,\n",
        "            'Resistant No (%)': f\"{r} ({r / total * 100:.1f}%)\"\n",
        "        })\n",
        "    else:\n",
        "        other_resistant += r\n",
        "        other_total += total\n",
        "\n",
        "# Add grouped row for sparse agents\n",
        "if other_total > 0:\n",
        "    table_rows.append({\n",
        "        'Antimicrobial Agents': 'Other agents',\n",
        "        'No. of Cultures Tested': other_total,\n",
        "        'Resistant No (%)': f\"{other_resistant} ({other_resistant / other_total * 100:.1f}%)\"\n",
        "    })\n",
        "\n",
        "# Create and display table\n",
        "susceptibility_table = pd.DataFrame(table_rows)\n",
        "susceptibility_table = susceptibility_table.sort_values(by='Antimicrobial Agents')\n",
        "display(data_table.DataTable(susceptibility_table))"
      ]
    },
    {
      "cell_type": "code",
      "execution_count": null,
      "metadata": {
        "id": "GaGIlNL7O1gs"
      },
      "outputs": [],
      "source": [
        "# Count how many agents were grouped under 'Other agents'\n",
        "other_agents_count = sum(1 for agent, stats in antibiotic_counts.items() if stats['Total Culture'] < 15)\n",
        "print(f\"Number of antimicrobial agents grouped under 'Other agents': {other_agents_count}\")\n",
        "#print list of grouped agents\n",
        "grouped_agents = [agent for agent, stats in antibiotic_counts.items() if stats['Total Culture'] < 15]\n",
        "print(f\"List of grouped agents: {grouped_agents}\")"
      ]
    },
    {
      "cell_type": "code",
      "execution_count": null,
      "metadata": {
        "id": "chQ3op84O1gt"
      },
      "outputs": [],
      "source": []
    },
    {
      "cell_type": "code",
      "execution_count": null,
      "metadata": {
        "id": "XAEL3vQGO1gt"
      },
      "outputs": [],
      "source": [
        "data_table.enable_dataframe_formatter()\n",
        "\n",
        "# ... (your existing code to load and preprocess urine_data) ...\n",
        "\n",
        "# Get unique organisms and antimicrobial agents\n",
        "unique_organisms = urine_data['Organism'].unique()\n",
        "antibiotic_columns = urine_data.columns[urine_data.columns.str.endswith(('_I', '_R', '_S'))]\n",
        "antimicrobial_agents = list(set([col[:-2] for col in antibiotic_columns]))\n",
        "\n",
        "# Create a dictionary to store the table data (organisms as rows, antibiotics as columns)\n",
        "table_data = {}\n",
        "\n",
        "# Loop through organisms and antimicrobial agents to populate the table\n",
        "for organism in unique_organisms:\n",
        "    for agent in antimicrobial_agents:\n",
        "        # Create keys for 'T' and 'RNo (%)' for each organism-antibiotic pair\n",
        "        total_key = organism + ' T_' + agent  # Unique key for Total\n",
        "        rno_key = organism + ' RNo (%)_' + agent  # Unique key for RNo (%)\n",
        "\n",
        "        try:\n",
        "            # Calculate total tested and resistant count\n",
        "            total_tested = urine_data.loc[urine_data['Organism'] == organism, [agent + '_I', agent + '_R', agent + '_S']].sum().sum()\n",
        "            #resistant_count = filtered_data.loc[filtered_data['Organism'] == organism, [agent + '_I', agent + '_R']].sum().sum()\n",
        "            resistant_count = urine_data.loc[urine_data['Organism'] == organism, [agent + '_I', agent + '_R',]].sum().sum()\n",
        "\n",
        "            # Store values in the table_data dictionary\n",
        "            table_data[total_key] = total_tested\n",
        "            table_data[rno_key] = f\"{resistant_count} ({resistant_count / total_tested * 100:.1f})\" if total_tested else 'ND'\n",
        "\n",
        "        except KeyError:\n",
        "            # Handle cases where the agent is not found for the current organism\n",
        "            table_data[total_key] = 'ND'\n",
        "            table_data[rno_key] = 'ND'\n",
        "\n",
        "# Create the DataFrame\n",
        "susceptibility_table = pd.DataFrame([table_data]).T.rename(columns={0: 'Value'})\n",
        "\n",
        "# Split the index values safely with conditional checks\n",
        "susceptibility_table['Organism'] = susceptibility_table.index.map(lambda x: x.split(' T_')[0] if ' T_' in x else x.split(' RNo (%)_')[0])\n",
        "susceptibility_table['Type'] = susceptibility_table.index.map(lambda x: 'T' if ' T_' in x else 'RNo (%)')\n",
        "susceptibility_table['Antibiotic'] = susceptibility_table.index.map(lambda x: x.split(' T_')[1] if ' T_' in x else x.split(' RNo (%)_')[1])\n",
        "\n",
        "# Reshape the DataFrame to have organisms as rows\n",
        "susceptibility_table = susceptibility_table.set_index(['Organism', 'Type', 'Antibiotic'])['Value'].unstack('Antibiotic')\n",
        "#remove all antibiotics that have only ND values throughout\n",
        "susceptibility_table = susceptibility_table.loc[:, (susceptibility_table != 'ND').any(axis=0)]\n",
        "#sort ascending\n",
        "susceptibility_table = susceptibility_table.sort_values(by='Organism', ascending=True)\n",
        "\n",
        "# Display the table using data_table formatter\n",
        "display(susceptibility_table)"
      ]
    },
    {
      "cell_type": "code",
      "execution_count": null,
      "metadata": {
        "id": "tYdVNeS5O1gt"
      },
      "outputs": [],
      "source": []
    },
    {
      "cell_type": "code",
      "execution_count": null,
      "metadata": {
        "id": "zHrPJU-vO1gu"
      },
      "outputs": [],
      "source": []
    },
    {
      "cell_type": "code",
      "execution_count": null,
      "metadata": {
        "id": "L61ws-WtO1gu"
      },
      "outputs": [],
      "source": [
        "data_table.enable_dataframe_formatter()\n",
        "\n",
        "# ... (your existing code to load and preprocess urine_data and create table_data dictionary) ...\n",
        "\n",
        "# Create the DataFrame from the dictionary\n",
        "susceptibility_table = pd.DataFrame([table_data]).T.rename(columns={0: 'Value'})\n",
        "\n",
        "# Split the index values safely with conditional checks\n",
        "susceptibility_table['Organism'] = susceptibility_table.index.map(lambda x: x.split(' T_')[0] if ' T_' in x else x.split(' RNo (%)_')[0])\n",
        "susceptibility_table['Type'] = susceptibility_table.index.map(lambda x: 'T' if ' T_' in x else 'RNo (%)')\n",
        "susceptibility_table['Antibiotic'] = susceptibility_table.index.map(lambda x: x.split(' T_')[1] if ' T_' in x else x.split(' RNo (%)_')[1])\n",
        "\n",
        "# Reshape the DataFrame to have Antibiotic and Type as a multi-level index (rows)\n",
        "# and Organism as columns.\n",
        "susceptibility_table = susceptibility_table.set_index(['Antibiotic', 'Type', 'Organism'])['Value'].unstack('Organism')\n",
        "\n",
        "# Remove organism columns that have only ND values throughout\n",
        "susceptibility_table = susceptibility_table.loc[:, (susceptibility_table != 'ND').any(axis=0)]\n",
        "\n",
        "# Sort the multi-level index first by Antibiotic, then by Type (putting 'T' before 'RNo (%)')\n",
        "susceptibility_table = susceptibility_table.sort_index(level=['Antibiotic', 'Type'], ascending=[True, True])\n",
        "\n",
        "# Display the table using data_table formatter\n",
        "display(data_table.DataTable(susceptibility_table))"
      ]
    },
    {
      "cell_type": "markdown",
      "metadata": {
        "id": "FC2ysq61O1gu"
      },
      "source": []
    },
    {
      "cell_type": "code",
      "execution_count": null,
      "metadata": {
        "id": "lbGUpC-nO1gu"
      },
      "outputs": [],
      "source": []
    },
    {
      "cell_type": "code",
      "execution_count": null,
      "metadata": {
        "id": "3XoE1SwXO1gv"
      },
      "outputs": [],
      "source": [
        "# Enable the Colab interactive table\n",
        "data_table.enable_dataframe_formatter()\n",
        "\n",
        "# Step 1: Build base DataFrame from table_data\n",
        "df = pd.DataFrame([table_data]).T.rename(columns={0: 'Value'})\n",
        "df['Organism'] = df.index.map(lambda x: x.split(' T_')[0] if ' T_' in x else x.split(' RNo (%)_')[0])\n",
        "df['Type'] = df.index.map(lambda x: 'T' if ' T_' in x else 'RNo (%)')\n",
        "df['Antibiotic'] = df.index.map(lambda x: x.split(' T_')[1] if ' T_' in x else x.split(' RNo (%)_')[1])\n",
        "\n",
        "# Step 2: Get total counts per antibiotic\n",
        "total_counts = df[df['Type'] == 'T'].groupby('Antibiotic')['Value'].apply(\n",
        "    lambda x: sum(pd.to_numeric(x, errors='coerce').fillna(0))\n",
        ")\n",
        "\n",
        "# Step 3: Group those < threshold as 'Other agents'\n",
        "threshold = 25\n",
        "keep_agents = total_counts[total_counts >= threshold].index.tolist()\n",
        "df['Grouped_Agent'] = df['Antibiotic'].apply(lambda x: x if x in keep_agents else 'Other agents')\n",
        "df['Antibiotic'] = df['Grouped_Agent']\n",
        "df.drop(columns='Grouped_Agent', inplace=True)\n",
        "\n",
        "# Step 4: Separate Total and Resistance data\n",
        "df_T = df[df['Type'] == 'T'].copy()\n",
        "df_T['Value'] = pd.to_numeric(df_T['Value'], errors='coerce').fillna(0)\n",
        "df_T = df_T.groupby(['Antibiotic', 'Organism'])['Value'].sum().unstack(fill_value=0)\n",
        "\n",
        "df_R = df[df['Type'] == 'RNo (%)'].copy()\n",
        "df_R['Resistant'] = df_R['Value'].apply(lambda v: float(str(v).split()[0]) if v != 'ND' else 0)\n",
        "df_R = df_R.groupby(['Antibiotic', 'Organism'])['Resistant'].sum().unstack(fill_value=0)\n",
        "\n",
        "# Step 5: Merge and compute resistance %\n",
        "result = {}\n",
        "for agent in df_T.index:\n",
        "    row = {}\n",
        "    for org in df_T.columns:\n",
        "        total = df_T.loc[agent, org]\n",
        "        resistant = df_R.loc[agent, org]\n",
        "        row[org] = f\"{int(resistant)} ({(resistant/total*100):.1f}%)\" if total > 0 else 'ND'\n",
        "    result[agent] = row\n",
        "\n",
        "# Step 6: Display as styled table\n",
        "final_table = pd.DataFrame(result).T\n",
        "display(data_table.DataTable(final_table))"
      ]
    },
    {
      "cell_type": "code",
      "execution_count": null,
      "metadata": {
        "id": "nPV8oYarO1gv"
      },
      "outputs": [],
      "source": []
    },
    {
      "cell_type": "code",
      "execution_count": null,
      "metadata": {
        "id": "cyf8FVisO1gw"
      },
      "outputs": [],
      "source": [
        "print(\"Grouped under 'Other agents':\")\n",
        "print(total_counts[total_counts < threshold])"
      ]
    },
    {
      "cell_type": "code",
      "execution_count": null,
      "metadata": {
        "id": "dU4e1QP2O1gw"
      },
      "outputs": [],
      "source": []
    },
    {
      "cell_type": "code",
      "execution_count": null,
      "metadata": {
        "id": "gjsBz5yvO1gw"
      },
      "outputs": [],
      "source": []
    },
    {
      "cell_type": "code",
      "execution_count": null,
      "metadata": {
        "id": "Rv3LkGF1O1gw"
      },
      "outputs": [],
      "source": []
    },
    {
      "cell_type": "code",
      "execution_count": null,
      "metadata": {
        "id": "OLVKRcjoO1gx"
      },
      "outputs": [],
      "source": [
        "#display list of antibiotic that were removed\n",
        "print(f\"Number of antimicrobial agents grouped under 'Other agents': {other_agents_count}\")\n",
        "print(f\"List of grouped agents: {grouped_agents}\")"
      ]
    },
    {
      "cell_type": "code",
      "execution_count": null,
      "metadata": {
        "id": "ZV4KPYkpO1gx"
      },
      "outputs": [],
      "source": []
    },
    {
      "cell_type": "code",
      "execution_count": null,
      "metadata": {
        "id": "7ghLxrrWO1gy"
      },
      "outputs": [],
      "source": [
        "df = pd.DataFrame([table_data]).T.rename(columns={0: 'Value'})\n",
        "\n",
        "# Extract components\n",
        "df['Organism'] = df.index.map(lambda x: x.split(' T_')[0] if ' T_' in x else x.split(' RNo (%)_')[0])\n",
        "df['Type'] = df.index.map(lambda x: 'T' if ' T_' in x else 'RNo (%)')\n",
        "df['Antibiotic'] = df.index.map(lambda x: x.split(' T_')[1] if ' T_' in x else x.split(' RNo (%)_')[1])\n",
        "\n",
        "# Reshape: Antibiotic x Type x Organism\n",
        "df = df.set_index(['Antibiotic', 'Type', 'Organism'])['Value'].unstack('Organism')\n",
        "\n",
        "# Step 1: Get counts table\n",
        "counts = df.loc[(slice(None), 'T'), :]\n",
        "counts = counts.apply(pd.to_numeric, errors='coerce')\n",
        "\n",
        "# Step 2: Flag organism-antibiotic pairs with <25 cultures\n",
        "low_count_mask = counts < 25\n",
        "low_count_organisms = low_count_mask.columns[low_count_mask.any()]\n",
        "low_count_abx = low_count_mask[low_count_mask.any(axis=1)].index.get_level_values(0).unique()\n",
        "\n",
        "# Step 3: Group these as 'Other organisms'\n",
        "df_grouped = df.copy()\n",
        "for abx in low_count_abx:\n",
        "    for org in low_count_organisms:\n",
        "        for t in ['T', 'RNo (%)']:\n",
        "            try:\n",
        "                val = df_grouped.loc[(abx, t), org]\n",
        "                df_grouped.loc[(abx, t), 'Other organisms'] = val if pd.notnull(val) else df_grouped.loc[(abx, t), 'Other organisms']\n",
        "                df_grouped.loc[(abx, t), org] = None  # remove original\n",
        "            except KeyError:\n",
        "                continue\n",
        "\n",
        "# Drop all-NaN columns and show\n",
        "df_grouped = df_grouped.dropna(axis=1, how='all').sort_index()\n",
        "display(df_grouped)"
      ]
    },
    {
      "cell_type": "code",
      "execution_count": null,
      "metadata": {
        "id": "JdYR7HxAO1gy"
      },
      "outputs": [],
      "source": []
    },
    {
      "cell_type": "code",
      "execution_count": null,
      "metadata": {
        "id": "OL2NNCKcO1gz"
      },
      "outputs": [],
      "source": []
    },
    {
      "cell_type": "code",
      "execution_count": null,
      "metadata": {
        "id": "-FD1fVSxO1gz"
      },
      "outputs": [],
      "source": [
        "#display all antibiotic columns\n",
        "print(\"Antibiotic Columns:\")\n",
        "for column in antibiotic_columns:\n",
        "    print(column)"
      ]
    },
    {
      "cell_type": "code",
      "execution_count": null,
      "metadata": {
        "id": "SxoRjqKHO1g0"
      },
      "outputs": [],
      "source": []
    },
    {
      "cell_type": "code",
      "execution_count": null,
      "metadata": {
        "id": "t6f00ekbO1g0"
      },
      "outputs": [],
      "source": []
    },
    {
      "cell_type": "code",
      "execution_count": null,
      "metadata": {
        "id": "UHH7x1PvO1g0"
      },
      "outputs": [],
      "source": []
    },
    {
      "cell_type": "code",
      "execution_count": null,
      "metadata": {
        "id": "hqOQO3qHO1g1"
      },
      "outputs": [],
      "source": []
    },
    {
      "cell_type": "code",
      "execution_count": null,
      "metadata": {
        "id": "182BUgQGO1g1"
      },
      "outputs": [],
      "source": []
    },
    {
      "cell_type": "code",
      "execution_count": null,
      "metadata": {
        "id": "26rJkBj3O1g1"
      },
      "outputs": [],
      "source": []
    },
    {
      "cell_type": "code",
      "execution_count": null,
      "metadata": {
        "id": "gkEqDs2aO1g1"
      },
      "outputs": [],
      "source": []
    },
    {
      "cell_type": "code",
      "execution_count": null,
      "metadata": {
        "id": "0wKUttwEO1g1"
      },
      "outputs": [],
      "source": [
        "!pip install pymannkendall"
      ]
    },
    {
      "cell_type": "code",
      "execution_count": null,
      "metadata": {
        "id": "c_q8snloO1g1"
      },
      "outputs": [],
      "source": []
    },
    {
      "cell_type": "code",
      "execution_count": null,
      "metadata": {
        "id": "vdDNrUCbO1g2"
      },
      "outputs": [],
      "source": []
    },
    {
      "cell_type": "code",
      "execution_count": null,
      "metadata": {
        "id": "1ymigQYXO1g2"
      },
      "outputs": [],
      "source": []
    },
    {
      "cell_type": "code",
      "execution_count": null,
      "metadata": {
        "id": "KAWW9_obO1g2"
      },
      "outputs": [],
      "source": []
    },
    {
      "cell_type": "code",
      "execution_count": null,
      "metadata": {
        "id": "iP6v_cLQO1g2"
      },
      "outputs": [],
      "source": []
    },
    {
      "cell_type": "code",
      "execution_count": null,
      "metadata": {
        "id": "2hHgUxsrO1g3"
      },
      "outputs": [],
      "source": [
        "print(urine_data['Organism'].unique())"
      ]
    },
    {
      "cell_type": "code",
      "execution_count": null,
      "metadata": {
        "id": "GI9UDN60O1g3"
      },
      "outputs": [],
      "source": [
        "#unique specimen\n",
        "print(urine_data['Specimen type'].unique())"
      ]
    },
    {
      "cell_type": "code",
      "execution_count": null,
      "metadata": {
        "id": "NdkwNAngO1g3"
      },
      "outputs": [],
      "source": []
    },
    {
      "cell_type": "code",
      "execution_count": null,
      "metadata": {
        "id": "sA9NjOoOO1g3"
      },
      "outputs": [],
      "source": []
    },
    {
      "cell_type": "code",
      "execution_count": null,
      "metadata": {
        "id": "pACg4J3NO1g3"
      },
      "outputs": [],
      "source": []
    },
    {
      "cell_type": "code",
      "execution_count": null,
      "metadata": {
        "id": "Q0oeyrdpO1g3"
      },
      "outputs": [],
      "source": [
        "# Preprocess: Create YearQuarter column\n",
        "urine_data['Specimen date'] = pd.to_datetime(urine_data['Specimen date'])\n",
        "urine_data['YearQuarter'] = urine_data['Specimen date'].dt.to_period('Q').astype(str)\n",
        "\n",
        "# Initialize an empty list to collect Mann-Kendall results\n",
        "mk_results = []\n",
        "\n",
        "# Get unique organisms and antimicrobial agents\n",
        "unique_organisms = urine_data['Organism'].unique()\n",
        "antibiotic_columns_encoded = urine_data.columns[urine_data.columns.str.endswith(('_I', '_R', '_S'))]\n",
        "antimicrobial_agents = list(set([col[:-2] for col in antibiotic_columns_encoded]))\n",
        "\n",
        "# Get sorted list of quarters\n",
        "quarters = sorted(urine_data['YearQuarter'].unique())\n",
        "\n",
        "# Iterate over all organism-antibiotic combinations\n",
        "for organism in unique_organisms:\n",
        "    for agent in antimicrobial_agents:\n",
        "        trend_data = []\n",
        "\n",
        "        for q in quarters:\n",
        "            df = urine_data[(urine_data['YearQuarter'] == q) & (urine_data['Organism'] == organism)]\n",
        "            r_col, i_col, s_col = f'{agent}_R', f'{agent}_I', f'{agent}_S'\n",
        "\n",
        "            if all(col in df.columns for col in [r_col, i_col, s_col]):\n",
        "                R, I, S = df[r_col].sum(), df[i_col].sum(), df[s_col].sum()\n",
        "                total = R + I + S\n",
        "\n",
        "                if total > 0:\n",
        "                    resistance_pct = (R + I) / total * 100\n",
        "                    trend_data.append((q, resistance_pct))\n",
        "\n",
        "        if len(trend_data) >= 12:  # Require at least 3 years of quarterly data\n",
        "            quarters_list, percentages = zip(*trend_data)\n",
        "            if all(isinstance(p, (int, float)) for p in percentages):\n",
        "                mk_result = mk.original_test(percentages)\n",
        "\n",
        "                mk_results.append({\n",
        "                    'Organism': organism,\n",
        "                    'Antibiotic': agent,\n",
        "                    'Trend': mk_result.trend,\n",
        "                    'p-value': round(mk_result.p, 4),\n",
        "                    'Tau': round(mk_result.Tau, 4),\n",
        "                    'S': getattr(mk_result, 'S', 'NA'),\n",
        "                    'Var(S)': round(getattr(mk_result, 'VarS', 0), 4),\n",
        "                })\n",
        "\n",
        "                # Plot with rolling average\n",
        "                df_plot = pd.DataFrame({'Quarter': quarters_list, 'Resistance': percentages})\n",
        "                df_plot['Quarter'] = pd.to_datetime(df_plot['Quarter'].astype(str))\n",
        "                df_plot.set_index('Quarter', inplace=True)\n",
        "                # Fix: limit to 2024 + use non-centered rolling average\n",
        "                df_plot = df_plot[df_plot.index.year <= 2024]\n",
        "                df_plot['RollingAvg'] = df_plot['Resistance'].rolling(window=3).mean()\n",
        "\n",
        "\n",
        "                plt.figure(figsize=(10, 5))\n",
        "                plt.plot(df_plot.index, df_plot['Resistance'], marker='o', label='Raw Resistance %')\n",
        "                plt.plot(df_plot.index, df_plot['RollingAvg'], linestyle='--', label='3-Quarter Rolling Avg')\n",
        "                plt.title(f\"{organism} to {agent}\\nMann-Kendall: {mk_result.trend} (p = {mk_result.p:.3f})\")\n",
        "                plt.xlim(pd.Timestamp(\"2019-01-01\"), pd.Timestamp(\"2024-12-31\"))\n",
        "\n",
        "                plt.xlabel(\"Quarter\")\n",
        "                plt.ylabel(\"Resistance (%)\")\n",
        "                plt.ylim(0, 100)\n",
        "                plt.xticks(rotation=45)\n",
        "                plt.grid(True)\n",
        "                plt.legend()\n",
        "                plt.tight_layout()\n",
        "                plt.show()\n",
        "\n",
        "# Convert to DataFrame\n",
        "mk_results_df = pd.DataFrame(mk_results)\n",
        "print(mk_results_df.head(20))  # View first few rows"
      ]
    },
    {
      "cell_type": "code",
      "execution_count": null,
      "metadata": {
        "id": "drLEcsdzO1g3"
      },
      "outputs": [],
      "source": []
    },
    {
      "cell_type": "code",
      "execution_count": null,
      "metadata": {
        "id": "gt_AJJykO1g4"
      },
      "outputs": [],
      "source": [
        "# Load Arial font\n",
        "arial_font = FontProperties(fname='ARIAL.TTF')\n",
        "\n",
        "# Organism-antibiotic pairs to show\n",
        "selected_plots = [\n",
        "    ('Escherichia coli', 'Cefotaxime'),\n",
        "    ('Klebsiella spp.', 'Amoxicillin/Clavulanic Acid')\n",
        "]\n",
        "\n",
        "# Create figure\n",
        "fig, axes = plt.subplots(nrows=2, ncols=1, figsize=(8, 6), sharex=True)\n",
        "\n",
        "for i, (organism, agent) in enumerate(selected_plots):\n",
        "    trend_data = []\n",
        "\n",
        "    for q in quarters:\n",
        "        df = urine_data[(urine_data['YearQuarter'] == q) & (urine_data['Organism'] == organism)]\n",
        "        r_col, i_col, s_col = f'{agent}_R', f'{agent}_I', f'{agent}_S'\n",
        "        if all(col in df.columns for col in [r_col, i_col, s_col]):\n",
        "            R, I, S = df[r_col].sum(), df[i_col].sum(), df[s_col].sum()\n",
        "            total = R + I + S\n",
        "            if total > 0:\n",
        "                resistance_pct = (R + I) / total * 100\n",
        "                trend_data.append((q, resistance_pct))\n",
        "\n",
        "    if len(trend_data) >= 12:\n",
        "        quarters_list, percentages = zip(*trend_data)\n",
        "        df_plot = pd.DataFrame({'Quarter': quarters_list, 'Resistance': percentages})\n",
        "        df_plot['Quarter'] = pd.to_datetime(df_plot['Quarter'].astype(str))\n",
        "        df_plot.set_index('Quarter', inplace=True)\n",
        "        df_plot = df_plot[df_plot.index.year <= 2024]\n",
        "        df_plot['RollingAvg'] = df_plot['Resistance'].rolling(window=3).mean()\n",
        "\n",
        "        ax = axes[i]\n",
        "        ax.plot(df_plot.index, df_plot['Resistance'], marker='o')\n",
        "        ax.plot(df_plot.index, df_plot['RollingAvg'], linestyle='--')\n",
        "        ax.set_ylim(0, 100)\n",
        "        ax.set_ylabel(\"Resistance (%)\", fontsize=10, fontproperties=arial_font)\n",
        "        ax.grid(True, linestyle='--', alpha=0.6)\n",
        "\n",
        "        # Panel label: a. or b.\n",
        "        label = chr(97 + i) + \".\"\n",
        "        ax.text(0.01, 0.95, label, transform=ax.transAxes,\n",
        "                fontsize=10, fontproperties=arial_font, verticalalignment='top')\n",
        "\n",
        "        # Fetch trend + p-value\n",
        "        result_row = mk_results_df[\n",
        "            (mk_results_df['Organism'] == organism) &\n",
        "            (mk_results_df['Antibiotic'] == agent)\n",
        "        ]\n",
        "        if not result_row.empty:\n",
        "            trend = result_row.iloc[0]['Trend']\n",
        "            pval = result_row.iloc[0]['p-value']\n",
        "            trend_text = f\"{trend} trend (p = {pval:.3f})\"\n",
        "\n",
        "            # Add trend+p-value inside the plot under label\n",
        "            ax.text(0.05, 0.87, trend_text, transform=ax.transAxes,\n",
        "                    fontsize=9, fontproperties=arial_font, verticalalignment='top')\n",
        "\n",
        "# Shared x-axis label\n",
        "axes[-1].set_xlabel(\"Quarter\", fontsize=10, fontproperties=arial_font)\n",
        "plt.xticks(rotation=45, fontproperties=arial_font, fontsize=9)\n",
        "plt.yticks(fontproperties=arial_font, fontsize=9)\n",
        "\n",
        "# Remove legends\n",
        "for ax in axes:\n",
        "    ax.legend().remove()\n",
        "\n",
        "# Save and show\n",
        "plt.tight_layout()\n",
        "plt.savefig(\"MRRH2024_Figure3.jpg\", format='jpg', dpi=300)\n",
        "plt.show()\n",
        "#dowload the Figure\n",
        "files.download(\"MRRH2024_Figure3.jpg\")"
      ]
    },
    {
      "cell_type": "code",
      "execution_count": null,
      "metadata": {
        "id": "3h8q6fSkO1g4"
      },
      "outputs": [],
      "source": []
    },
    {
      "cell_type": "code",
      "execution_count": null,
      "metadata": {
        "id": "5Otoe9k1O1g4"
      },
      "outputs": [],
      "source": []
    },
    {
      "cell_type": "code",
      "execution_count": null,
      "metadata": {
        "id": "MYhUdj6TO1g4"
      },
      "outputs": [],
      "source": []
    },
    {
      "cell_type": "code",
      "execution_count": null,
      "metadata": {
        "id": "aF3ZaOUuO1g4"
      },
      "outputs": [],
      "source": []
    },
    {
      "cell_type": "code",
      "execution_count": null,
      "metadata": {
        "id": "sFcD7O_8O1g5"
      },
      "outputs": [],
      "source": [
        "# Filter for increasing and decreasing trends only\n",
        "trend_df = mk_results_df[mk_results_df['Trend'].isin(['increasing', 'decreasing'])].copy()\n",
        "\n",
        "# Optional: sort by organism or antibiotic\n",
        "trend_df.sort_values(by=['Organism', 'Antibiotic'], inplace=True)\n",
        "\n",
        "# Reset index for clean export\n",
        "trend_df.reset_index(drop=True, inplace=True)\n",
        "\n",
        "# Display table\n",
        "print(\"📊 Organism–Antibiotic Combinations with Significant Trends (Increasing or Decreasing):\")\n",
        "display(trend_df)"
      ]
    },
    {
      "cell_type": "code",
      "execution_count": null,
      "metadata": {
        "id": "YcZrhwL4O1g5"
      },
      "outputs": [],
      "source": []
    },
    {
      "cell_type": "code",
      "execution_count": null,
      "metadata": {
        "id": "0GE9ql4sO1g5"
      },
      "outputs": [],
      "source": [
        "#display antibiotic\n",
        "print(antibiotic_columns_encoded)"
      ]
    },
    {
      "cell_type": "code",
      "execution_count": null,
      "metadata": {
        "id": "kgenWGvMO1g5"
      },
      "outputs": [],
      "source": []
    },
    {
      "cell_type": "code",
      "execution_count": null,
      "metadata": {
        "id": "e-UW_h8fO1g5"
      },
      "outputs": [],
      "source": []
    },
    {
      "cell_type": "code",
      "execution_count": null,
      "metadata": {
        "id": "K0OLi-s1O1g5"
      },
      "outputs": [],
      "source": [
        "# Assuming urine_data is already loaded and preprocessed up to the YearQuarter creation\n",
        "# ... (your code for creating urine_data and YearQuarter column) ...\n",
        "\n",
        "# Initialize a list to collect pairs that *did not* meet the data criteria\n",
        "not_meeting_criteria = []\n",
        "\n",
        "# Get unique organisms and antimicrobial agents\n",
        "unique_organisms = urine_data['Organism'].unique()\n",
        "antibiotic_columns_encoded = urine_data.columns[urine_data.columns.str.endswith(('_I', '_R', '_S'))]\n",
        "antimicrobial_agents = list(set([col[:-2] for col in antibiotic_columns_encoded]))\n",
        "\n",
        "# Get sorted list of quarters\n",
        "quarters = sorted(urine_data['YearQuarter'].unique())\n",
        "\n",
        "# Iterate over all organism-antibiotic combinations\n",
        "for organism in unique_organisms:\n",
        "    for agent in antimicrobial_agents:\n",
        "        trend_data = []\n",
        "\n",
        "        # Collect data points for the current organism and antibiotic across quarters\n",
        "        for q in quarters:\n",
        "            df = urine_data[(urine_data['YearQuarter'] == q) & (urine_data['Organism'] == organism)]\n",
        "            r_col, i_col, s_col = f'{agent}_R', f'{agent}_I', f'{agent}_S'\n",
        "\n",
        "            if all(col in df.columns for col in [r_col, i_col, s_col]):\n",
        "                 R, I, S = df[r_col].sum(), df[i_col].sum(), df[s_col].sum()\n",
        "                 total = R + I + S\n",
        "\n",
        "                 if total > 0:\n",
        "                     # We don't need resistance_pct here, just the fact that data exists\n",
        "                     trend_data.append((q, total)) # Append something to indicate data exists for this quarter\n",
        "\n",
        "        # Check if the number of data points (quarters with data) is LESS THAN 12\n",
        "        if len(trend_data) < 12:\n",
        "            # If the criteria is not met, record the organism and antibiotic pair\n",
        "            not_meeting_criteria.append({'Organism': organism, 'Antibiotic': agent, 'Quarters with Data': len(trend_data)})"
      ]
    },
    {
      "cell_type": "code",
      "execution_count": null,
      "metadata": {
        "id": "EFwuX8fHO1g5"
      },
      "outputs": [],
      "source": [
        "# Convert the list to a DataFrame for display\n",
        "not_meeting_criteria_df = pd.DataFrame(not_meeting_criteria)\n",
        "\n",
        "print(\"\\nOrganism-Antibiotic Pairs Excluded from Trend Analysis (due to < 12 quarters of data):\")\n",
        "display(not_meeting_criteria_df)"
      ]
    },
    {
      "cell_type": "code",
      "execution_count": null,
      "metadata": {
        "id": "M1shW3yxO1g5"
      },
      "outputs": [],
      "source": []
    },
    {
      "cell_type": "code",
      "execution_count": null,
      "metadata": {
        "id": "JVfbR5DBO1g6"
      },
      "outputs": [],
      "source": []
    },
    {
      "cell_type": "code",
      "execution_count": null,
      "metadata": {
        "id": "VziBaVmwO1g6"
      },
      "outputs": [],
      "source": [
        "# Filter for no trend\n",
        "no_trend_df = mk_results_df[mk_results_df['Trend'] == 'no trend'].copy()\n",
        "print(\"\\nResults with No Significant Trend:\")\n",
        "display(no_trend_df)"
      ]
    },
    {
      "cell_type": "code",
      "execution_count": null,
      "metadata": {
        "id": "Z2drS7A-O1g6"
      },
      "outputs": [],
      "source": []
    },
    {
      "cell_type": "code",
      "execution_count": null,
      "metadata": {
        "id": "PuJamNsaO1g6"
      },
      "outputs": [],
      "source": []
    },
    {
      "cell_type": "code",
      "execution_count": null,
      "metadata": {
        "id": "NoYIQZirO1g6"
      },
      "outputs": [],
      "source": [
        "# Define antibiotic classes\n",
        "antibiotic_classes = {\n",
        "    'Beta-lactams': ['Amoxicillin', 'Amoxicillin/Clavulanic Acid', 'Ampicillin', 'Azlocillin', 'Aztreonam',\n",
        "                     'Cefaclor', 'Cefazolin', 'Ceftriaxone', 'Penicillin'],\n",
        "    'Fluoroquinolones': ['Ciprofloxacin', 'Ofloxacin', 'Moxifloxacin'],\n",
        "    'Aminoglycosides': ['Gentamicin'],\n",
        "    'Macrolides': ['Clindamycin', 'Erythromycin'],\n",
        "    'Tetracyclines': ['Chlortetracycline'],\n",
        "    'Sulfonamides': ['Sulfamethoxazole'],\n",
        "    'Carbapenems': ['Imipenem', 'Meropenem'],\n",
        "    'Amphenicols': ['Chloramphenicol'],\n",
        "    'Nitrofurans': ['Nitrofurantoin']\n",
        "}\n",
        "\n",
        "# Step 1: Assign resistant classes\n",
        "resistant_classes_list = []\n",
        "for _, row in urine_data.iterrows():\n",
        "    resistant_classes = []\n",
        "    for class_name, antibiotics in antibiotic_classes.items():\n",
        "        for ab in antibiotics:\n",
        "            if row.get(f\"{ab}_R\", 0) == 1 or row.get(f\"{ab}_I\", 0) == 1:\n",
        "                resistant_classes.append(class_name)\n",
        "                break\n",
        "    resistant_classes_list.append(', '.join(resistant_classes))\n",
        "\n",
        "urine_data['Resistant Classes'] = resistant_classes_list\n",
        "\n",
        "# Step 2: Define fully susceptible isolates\n",
        "def is_fully_susceptible(row):\n",
        "    for ab_list in antibiotic_classes.values():\n",
        "        for ab in ab_list:\n",
        "            if row.get(f\"{ab}_R\", 0) == 1 or row.get(f\"{ab}_I\", 0) == 1:\n",
        "                return False\n",
        "    return True\n",
        "\n",
        "urine_data['Fully Susceptible'] = urine_data.apply(is_fully_susceptible, axis=1)\n",
        "\n",
        "# Step 3: Define MDR types\n",
        "def determine_mdr_type(row):\n",
        "    organism = str(row['Organism']).lower()\n",
        "    mdr_types = []\n",
        "    if any(o in organism for o in ['escherichia coli', 'klebsiella', 'citrobacter']) and \\\n",
        "       any(row.get(f\"{ab}_R\", 0) == 1 or row.get(f\"{ab}_I\", 0) == 1 for ab in ['Ceftriaxone', 'Ceftazidime', 'Cefotaxime']):\n",
        "        mdr_types.append('ESBL')\n",
        "    if 'staphylococcus aureus' in organism and \\\n",
        "       any(row.get(f\"{ab}_R\", 0) == 1 or row.get(f\"{ab}_I\", 0) == 1 for ab in ['Oxacillin', 'Cefoxitin 30 mg']):\n",
        "        mdr_types.append('MRSA')\n",
        "    if 'enterococcus' in organism and (row.get('Vancomycin_R', 0) == 1 or row.get('Vancomycin_I', 0) == 1):\n",
        "        mdr_types.append('VRE')\n",
        "    if 'klebsiella pneumoniae' in organism and \\\n",
        "       any(row.get(f\"{ab}_R\", 0) == 1 or row.get(f\"{ab}_I\", 0) == 1 for ab in ['Imipenem', 'Meropenem']):\n",
        "        mdr_types.append('KPC')\n",
        "    return ', '.join(mdr_types) if mdr_types else 'None'\n",
        "\n",
        "urine_data['MDR Type'] = urine_data.apply(determine_mdr_type, axis=1)\n",
        "\n",
        "# Step 4: Classify MDR Status\n",
        "def classify_mdr(row):\n",
        "    if row['Fully Susceptible']:\n",
        "        return 'Susceptible'\n",
        "    cleaned = [cls.strip() for cls in row['Resistant Classes'].split(',') if cls.strip()]\n",
        "    return 'MDR' if len(cleaned) >= 3 else 'Non-MDR'\n",
        "\n",
        "urine_data['MDR Status'] = urine_data.apply(classify_mdr, axis=1)\n",
        "\n",
        "# Step 5: Summarize and calculate percentage\n",
        "summary_table = urine_data.groupby(['MDR Status', 'MDR Type']).size().reset_index(name='Count')\n",
        "total_isolates = summary_table['Count'].sum()\n",
        "summary_table['Percent'] = ((summary_table['Count'] / total_isolates) * 100).round(1)\n",
        "\n",
        "# Adjust last row if needed to sum exactly to 100%\n",
        "percent_diff = 100 - summary_table['Percent'].sum()\n",
        "if abs(percent_diff) > 0.01:\n",
        "    summary_table.loc[summary_table.index[-1], 'Percent'] += percent_diff\n",
        "\n",
        "# Show summary\n",
        "print(\"MDR Status Summary:\")\n",
        "display(summary_table)\n",
        "\n",
        "# Filter and display MDR isolates (show MDR type clearly)\n",
        "mdr_isolates = urine_data[urine_data['MDR Status'] == 'MDR']\n",
        "display(mdr_isolates[['Identification number', 'Specimen number', 'Organism',\n",
        "                      'Resistant Classes', 'MDR Status', 'MDR Type']].sort_values(by='MDR Type'))"
      ]
    },
    {
      "cell_type": "code",
      "execution_count": null,
      "metadata": {
        "id": "_5LJleCEO1g7"
      },
      "outputs": [],
      "source": []
    },
    {
      "cell_type": "code",
      "execution_count": null,
      "metadata": {
        "id": "CwPJ0eQLO1g7"
      },
      "outputs": [],
      "source": [
        "# Load your data into urine_data, e.g.\n",
        "# urine_data = pd.read_csv(\"your_file.csv\")\n",
        "\n",
        "# Define antibiotic classes\n",
        "antibiotic_classes = {\n",
        "    'Beta-lactams': ['Amoxicillin', 'Amoxicillin/Clavulanic Acid', 'Ampicillin', 'Azlocillin', 'Aztreonam',\n",
        "                     'Cefaclor', 'Cefazolin', 'Ceftriaxone', 'Penicillin'],\n",
        "    'Fluoroquinolones': ['Ciprofloxacin', 'Ofloxacin', 'Moxifloxacin'],\n",
        "    'Aminoglycosides': ['Gentamicin'],\n",
        "    'Macrolides': ['Clindamycin', 'Erythromycin'],\n",
        "    'Sulfonamides': ['Sulfamethoxazole'],\n",
        "    'Carbapenems': ['Imipenem', 'Meropenem'],\n",
        "    'Amphenicols': ['Chloramphenicol'],\n",
        "    'Nitrofurans': ['Nitrofurantoin']\n",
        "}\n",
        "\n",
        "# Step 1: Assign resistant classes per isolate\n",
        "def get_resistant_classes(row):\n",
        "    resistant = []\n",
        "    for class_name, agents in antibiotic_classes.items():\n",
        "        for ab in agents:\n",
        "            if row.get(f\"{ab}_R\", 0) == 1 or row.get(f\"{ab}_I\", 0) == 1:\n",
        "                resistant.append(class_name)\n",
        "                break\n",
        "    return resistant\n",
        "\n",
        "urine_data['Resistant Classes'] = urine_data.apply(get_resistant_classes, axis=1)\n",
        "\n",
        "# Step 2: Fully susceptible label\n",
        "urine_data['Fully Susceptible'] = urine_data['Resistant Classes'].apply(lambda x: len(x) == 0)\n",
        "\n",
        "# Step 3: Detect mechanism-based MDR types\n",
        "def detect_mdr_mechanisms(row):\n",
        "    organism = str(row['Organism']).lower()\n",
        "    types = []\n",
        "    if any(org in organism for org in ['escherichia coli', 'klebsiella', 'citrobacter']):\n",
        "        if any(row.get(f\"{ab}_R\", 0) == 1 or row.get(f\"{ab}_I\", 0) == 1 for ab in ['Ceftriaxone', 'Ceftazidime', 'Cefotaxime']):\n",
        "            types.append('ESBL')\n",
        "    if 'staphylococcus aureus' in organism:\n",
        "        if any(row.get(f\"{ab}_R\", 0) == 1 or row.get(f\"{ab}_I\", 0) == 1 for ab in ['Oxacillin', 'Cefoxitin 30 mg']):\n",
        "            types.append('MRSA')\n",
        "    if 'enterococcus' in organism:\n",
        "        if row.get('Vancomycin_R', 0) == 1 or row.get('Vancomycin_I', 0) == 1:\n",
        "            types.append('VRE')\n",
        "    if 'klebsiella pneumoniae' in organism:\n",
        "        if any(row.get(f\"{ab}_R\", 0) == 1 or row.get(f\"{ab}_I\", 0) == 1 for ab in ['Imipenem', 'Meropenem']):\n",
        "            types.append('KPC')\n",
        "    return ', '.join(types) if types else 'None'\n",
        "\n",
        "urine_data['MDR Type'] = urine_data.apply(detect_mdr_mechanisms, axis=1)\n",
        "\n",
        "# Step 4: WHO-compliant MDR/XDR/PDR classification\n",
        "def classify_resistance_profile(row):\n",
        "    if row['Fully Susceptible']:\n",
        "        return 'Susceptible'\n",
        "    total_classes = len(antibiotic_classes)\n",
        "    resistant_class_count = len(set(row['Resistant Classes']))\n",
        "    if resistant_class_count == total_classes:\n",
        "        return 'PDR'\n",
        "    elif total_classes - resistant_class_count <= 2:\n",
        "        return 'XDR'\n",
        "    elif resistant_class_count >= 3:\n",
        "        return 'MDR'\n",
        "    else:\n",
        "        return 'Non-MDR'\n",
        "\n",
        "urine_data['MDR Status'] = urine_data.apply(classify_resistance_profile, axis=1)\n",
        "\n",
        "# Step 5: Override logic for known mechanisms\n",
        "def enforce_mechanism_override(row):\n",
        "    if row['MDR Status'] in ['Susceptible', 'Non-MDR']:\n",
        "        if any(m in row['MDR Type'] for m in ['ESBL', 'KPC', 'MRSA', 'VRE']):\n",
        "            return 'MDR'\n",
        "    return row['MDR Status']\n",
        "\n",
        "urine_data['MDR Status'] = urine_data.apply(enforce_mechanism_override, axis=1)\n",
        "\n",
        "# Step 6: Annotate reasoning (optional)\n",
        "def explain_mdr_reason(row):\n",
        "    if row['Fully Susceptible']:\n",
        "        return 'Fully Susceptible'\n",
        "    elif any(m in row['MDR Type'] for m in ['ESBL', 'KPC', 'MRSA', 'VRE']):\n",
        "        return 'Mechanism-based MDR'\n",
        "    elif row['MDR Status'] == 'PDR':\n",
        "        return 'All classes resistant'\n",
        "    elif row['MDR Status'] == 'XDR':\n",
        "        return 'Only 0–2 classes susceptible'\n",
        "    elif row['MDR Status'] == 'MDR':\n",
        "        return '≥3 classes resistant'\n",
        "    return 'Resistant to <3 classes'\n",
        "\n",
        "urine_data['MDR Reason'] = urine_data.apply(explain_mdr_reason, axis=1)\n",
        "\n",
        "# Step 7: Summary output with percentages\n",
        "summary_table = urine_data.groupby(['MDR Status', 'MDR Type']).size().reset_index(name='Count')\n",
        "total_isolates = len(urine_data)\n",
        "summary_table['Percent'] = (summary_table['Count'] / total_isolates * 100).round(2)\n",
        "\n",
        "# Normalize percentages to sum to 100% if needed\n",
        "summary_table['Percent'] = (summary_table['Percent'] / summary_table['Percent'].sum() * 100).round(2)\n",
        "\n",
        "# Final display\n",
        "display(summary_table)"
      ]
    },
    {
      "cell_type": "code",
      "execution_count": null,
      "metadata": {
        "id": "jcumaiLdO1g8"
      },
      "outputs": [],
      "source": []
    },
    {
      "cell_type": "code",
      "execution_count": null,
      "metadata": {
        "id": "xrx2fXEvO1g8"
      },
      "outputs": [],
      "source": [
        "#print unique mdrstatus\n",
        "print(urine_data['MDR Status'].unique())"
      ]
    },
    {
      "cell_type": "code",
      "execution_count": null,
      "metadata": {
        "id": "gvbV73fpO1g8"
      },
      "outputs": [],
      "source": []
    },
    {
      "cell_type": "code",
      "execution_count": null,
      "metadata": {
        "id": "5EK9ThBjO1g8"
      },
      "outputs": [],
      "source": [
        "# Load Arial font (adjust path if needed)\n",
        "arial_font = FontProperties(fname='ARIAL.TTF')\n",
        "\n",
        "# Step 1: Filter resistant isolates (MDR + XDR)\n",
        "res_data = urine_data[urine_data['MDR Status'].isin(['MDR', 'XDR'])].copy()\n",
        "\n",
        "# Step 2: Standardize missing mechanism\n",
        "res_data['MDR Type'] = res_data['MDR Type'].replace({'None': 'No detected mechanism'})\n",
        "\n",
        "# Step 3: Combine status and type\n",
        "res_data['Phenotypic Label'] = res_data['MDR Status'] + ': ' + res_data['MDR Type']\n",
        "\n",
        "# Step 4: Count phenotypes\n",
        "phenotype_counts = res_data.groupby(['Organism', 'Phenotypic Label']).size().unstack(fill_value=0)\n",
        "\n",
        "# Step 5: Convert to percentages\n",
        "phenotype_percentages = phenotype_counts.div(phenotype_counts.sum(axis=1), axis=0) * 100\n",
        "\n",
        "# Step 6: Define color palette\n",
        "color_palette = ['#E69F00', '#56B4E9', '#009E73', '#0072B2',\n",
        "                 '#F0E442', '#D55E00', '#CC79A7', '#999999',\n",
        "                 '#CC9900', '#33CCFF', '#6600CC']\n",
        "\n",
        "# Step 7: Plot (legend removed)\n",
        "fig, ax = plt.subplots(figsize=(12, 6))\n",
        "phenotype_percentages.plot(\n",
        "    kind='bar',\n",
        "    stacked=True,\n",
        "    ax=ax,\n",
        "    color=color_palette[:phenotype_percentages.shape[1]]\n",
        ")\n",
        "ax.get_legend().remove()  # ⛔ Remove legend\n",
        "\n",
        "# Labels\n",
        "ax.set_ylabel('Percentage of Resistant Isolates', fontproperties=arial_font, fontsize=12)\n",
        "ax.set_title('Distribution of MDR and XDR Phenotypes by Organism', fontproperties=arial_font, fontsize=14)\n",
        "ax.set_xticklabels(phenotype_percentages.index, rotation=45, ha='right', fontproperties=arial_font, fontsize=10)\n",
        "plt.yticks(fontproperties=arial_font, fontsize=10)\n",
        "\n",
        "# Save and show\n",
        "plt.tight_layout()\n",
        "plt.savefig(\"MRRH2024_Figure4.jpg\", format='jpg', dpi=300)\n",
        "plt.show()\n",
        "#dowload the Figure\n",
        "files.download(\"MRRH2024_Figure4.jpg\")"
      ]
    },
    {
      "cell_type": "code",
      "execution_count": null,
      "metadata": {
        "id": "e-Ca5OkJO1g9"
      },
      "outputs": [],
      "source": []
    },
    {
      "cell_type": "code",
      "execution_count": null,
      "metadata": {
        "id": "l0owydnvO1g9"
      },
      "outputs": [],
      "source": [
        "urine_data.head()"
      ]
    },
    {
      "cell_type": "code",
      "execution_count": null,
      "metadata": {
        "id": "xN6A0bs9O1g9"
      },
      "outputs": [],
      "source": []
    },
    {
      "cell_type": "code",
      "execution_count": null,
      "metadata": {
        "id": "H-tnrQyDO1g9"
      },
      "outputs": [],
      "source": []
    },
    {
      "cell_type": "code",
      "execution_count": null,
      "metadata": {
        "id": "3P0W8rbkO1g9"
      },
      "outputs": [],
      "source": [
        "# Load Arial font\n",
        "arial_font = FontProperties(fname='ARIAL.TTF')\n",
        "\n",
        "# ---- Step 0: Load your data and define antibiotic_classes before running this ----\n",
        "# Example:\n",
        "# urine_data = pd.read_csv(\"your_data.csv\")\n",
        "# antibiotic_classes = {'Beta-lactams': [...], 'Fluoroquinolones': [...], ...}\n",
        "\n",
        "# Step 1: Recalculate 'Resistant Classes'\n",
        "resistant_classes_list = []\n",
        "for _, row in urine_data.iterrows():\n",
        "    resistant_classes = []\n",
        "    for class_name, antibiotics in antibiotic_classes.items():\n",
        "        for ab in antibiotics:\n",
        "            if row.get(f\"{ab}_R\", 0) == 1 or row.get(f\"{ab}_I\", 0) == 1:\n",
        "                resistant_classes.append(class_name)\n",
        "                break\n",
        "    resistant_classes_list.append(', '.join(resistant_classes))\n",
        "\n",
        "urine_data['Resistant Classes'] = resistant_classes_list\n",
        "\n",
        "# Step 2: Filter MDR and XDR isolates\n",
        "filtered_data = urine_data[urine_data['MDR Status'].isin(['MDR', 'XDR'])].copy()\n",
        "\n",
        "# Step 3: Count totals and resistance\n",
        "organism_totals = filtered_data['Organism'].value_counts().to_dict()\n",
        "organism_class_counts = {}\n",
        "for _, row in filtered_data.iterrows():\n",
        "    organism = row['Organism']\n",
        "    classes = row['Resistant Classes'].split(\", \") if pd.notnull(row['Resistant Classes']) else []\n",
        "    if organism not in organism_class_counts:\n",
        "        organism_class_counts[organism] = {cls: 0 for cls in antibiotic_classes}\n",
        "    for cls in classes:\n",
        "        if cls in organism_class_counts[organism]:\n",
        "            organism_class_counts[organism][cls] += 1\n",
        "\n",
        "# Step 4: Create DataFrames\n",
        "count_df = pd.DataFrame.from_dict(organism_class_counts, orient='index').fillna(0).astype(int)\n",
        "annot_df = count_df.copy().astype(str)\n",
        "percentage_df = count_df.copy()\n",
        "\n",
        "for org in count_df.index:\n",
        "    total = organism_totals.get(org, 0)\n",
        "    for cls in count_df.columns:\n",
        "        n = count_df.loc[org, cls]\n",
        "        perc = (n / total * 100) if total > 0 else 0\n",
        "        annot_df.loc[org, cls] = f\"{n}/{total}\\n({perc:.1f}%)\"\n",
        "        percentage_df.loc[org, cls] = perc\n",
        "\n",
        "# Step 5: Plot\n",
        "plt.figure(figsize=(14, 9))\n",
        "sns.heatmap(\n",
        "    percentage_df,\n",
        "    annot=annot_df,\n",
        "    fmt='',\n",
        "    cmap='YlGnBu',\n",
        "    annot_kws={\"size\": 9, \"fontproperties\": arial_font},\n",
        "    cbar=True\n",
        ")\n",
        "plt.xlabel(\"Antibiotic Class\", fontsize=12, fontproperties=arial_font)\n",
        "plt.ylabel(\"Organism\", fontsize=12, fontproperties=arial_font)\n",
        "plt.title(\"Resistance Class Distribution Among MDR/XDR Uropathogens (n/N %)\", fontsize=14, fontproperties=arial_font)\n",
        "plt.xticks(rotation=45, ha='right', fontsize=10, fontproperties=arial_font)\n",
        "plt.yticks(rotation=0, fontsize=10, fontproperties=arial_font)\n",
        "# Save and show\n",
        "plt.tight_layout()\n",
        "plt.savefig(\"MRRH2024_Figure5.jpg\", format='jpg', dpi=300)\n",
        "plt.show()\n",
        "#dowload the Figure\n",
        "files.download(\"MRRH2024_Figure5.jpg\")"
      ]
    },
    {
      "cell_type": "code",
      "execution_count": null,
      "metadata": {
        "id": "B5YQS74GO1g-"
      },
      "outputs": [],
      "source": []
    },
    {
      "cell_type": "code",
      "execution_count": null,
      "metadata": {
        "id": "iin-AVYtO1g-"
      },
      "outputs": [],
      "source": []
    },
    {
      "cell_type": "code",
      "execution_count": null,
      "metadata": {
        "id": "WRiDHZQzO1g-"
      },
      "outputs": [],
      "source": [
        "# Step 1: Prepare datetime and quarter\n",
        "urine_data['Specimen date'] = pd.to_datetime(urine_data['Specimen date'])\n",
        "urine_data['YearQuarter'] = urine_data['Specimen date'].dt.to_period('Q').astype(str)\n",
        "urine_data['Is_MDR'] = (urine_data['MDR Status'] == 'MDR').astype(int)\n",
        "\n",
        "# Step 2: Define complete quarter-organism grid\n",
        "organisms = urine_data['Organism'].unique()\n",
        "all_quarters = pd.period_range(\n",
        "    start=urine_data['Specimen date'].min(),\n",
        "    end=urine_data['Specimen date'].max(),\n",
        "    freq='Q'\n",
        ").astype(str)\n",
        "\n",
        "plot_dict = {}\n",
        "\n",
        "# Step 3: Process each organism\n",
        "for organism in organisms:\n",
        "    quarter_data = []\n",
        "\n",
        "    for q in all_quarters:\n",
        "        df_q = urine_data[(urine_data['YearQuarter'] == q) & (urine_data['Organism'] == organism)]\n",
        "        total = len(df_q)\n",
        "        if total > 0:\n",
        "            mdr_pct = df_q['Is_MDR'].mean() * 100\n",
        "        else:\n",
        "            mdr_pct = np.nan  # Mark missing values\n",
        "        quarter_data.append((q, mdr_pct))\n",
        "\n",
        "    # Create dataframe and convert quarters\n",
        "    df_plot = pd.DataFrame(quarter_data, columns=['Quarter', 'MDR %'])\n",
        "    df_plot['Quarter'] = pd.PeriodIndex(df_plot['Quarter'], freq='Q').to_timestamp()\n",
        "    df_plot.set_index('Quarter', inplace=True)\n",
        "\n",
        "    # Run Mann-Kendall on original values (not interpolated)\n",
        "    if df_plot['MDR %'].notna().sum() >= 12:\n",
        "        mk_result = mk.original_test(df_plot['MDR %'].dropna())\n",
        "        trend_label = f\"{mk_result.trend} (p={mk_result.p:.3f})\"\n",
        "\n",
        "        # Interpolate missing quarters\n",
        "        df_plot['MDR %'] = df_plot['MDR %'].interpolate(method='linear', limit_direction='both')\n",
        "\n",
        "        # Rolling average on interpolated data\n",
        "        df_plot['RollingAvg'] = df_plot['MDR %'].rolling(window=3, min_periods=1).mean()\n",
        "\n",
        "        # Store for plotting\n",
        "        plot_dict[organism] = {'df': df_plot, 'label': trend_label}\n",
        "\n",
        "# Step 4: Plot with 2 subplots per row\n",
        "n_orgs = len(plot_dict)\n",
        "cols = 2\n",
        "rows = int(np.ceil(n_orgs / cols))\n",
        "\n",
        "fig, axes = plt.subplots(rows, cols, figsize=(7 * cols, 4.5 * rows), sharex=True)\n",
        "axes = axes.flatten()\n",
        "\n",
        "for idx, (organism, content) in enumerate(plot_dict.items()):\n",
        "    ax = axes[idx]\n",
        "    df = content['df']\n",
        "\n",
        "    # Plot rolling average only\n",
        "    ax.plot(df.index, df['RollingAvg'], linestyle='-', marker='o', color='orange', label='3Q Rolling Avg')\n",
        "    ax.set_title(f\"{organism}\\n{content['label']}\", fontsize=10)\n",
        "    ax.set_ylim(0, 110)\n",
        "    ax.axhline(50, color='red', linestyle='--', linewidth=1)\n",
        "    ax.grid(True)\n",
        "    ax.tick_params(axis='x', rotation=45)\n",
        "    ax.legend(fontsize=8)\n",
        "\n",
        "# Hide unused subplots\n",
        "for idx in range(len(plot_dict), len(axes)):\n",
        "    axes[idx].axis('off')\n",
        "\n",
        "plt.suptitle(\"Quarterly MDR % Trends by Organism \", fontsize=14, y=1.02)\n",
        "plt.tight_layout()\n",
        "plt.show()"
      ]
    },
    {
      "cell_type": "code",
      "execution_count": null,
      "metadata": {
        "id": "OWuyOYvrO1g-"
      },
      "outputs": [],
      "source": []
    },
    {
      "cell_type": "code",
      "execution_count": null,
      "metadata": {
        "id": "LsIgChxwO1g-"
      },
      "outputs": [],
      "source": []
    },
    {
      "cell_type": "code",
      "execution_count": null,
      "metadata": {
        "id": "jBsffK1qO1g-"
      },
      "outputs": [],
      "source": [
        "# --- Install pymannkendall if needed ---\n",
        "!pip install pymannkendall --quiet\n",
        "\n",
        "# --- Imports ---\n",
        "\n",
        "# --- Load Arial font ---\n",
        "arial_font = FontProperties(fname='ARIAL.TTF')  # Upload this font in Colab\n",
        "\n",
        "# --- Date and quarter processing ---\n",
        "urine_data['Specimen date'] = pd.to_datetime(urine_data['Specimen date'])\n",
        "urine_data['YearQuarter'] = urine_data['Specimen date'].dt.to_period('Q').astype(str)\n",
        "urine_data['Is_MDR'] = (urine_data['MDR Status'] == 'MDR').astype(int)\n",
        "\n",
        "organisms = urine_data['Organism'].unique()\n",
        "all_quarters = pd.period_range(\n",
        "    start=urine_data['Specimen date'].min(),\n",
        "    end=urine_data['Specimen date'].max(),\n",
        "    freq='Q'\n",
        ").astype(str)\n",
        "\n",
        "plot_dict = {}\n",
        "\n",
        "# --- Calculate MDR % and Mann-Kendall ---\n",
        "for organism in organisms:\n",
        "    quarter_data = []\n",
        "    for q in all_quarters:\n",
        "        df_q = urine_data[(urine_data['YearQuarter'] == q) & (urine_data['Organism'] == organism)]\n",
        "        total = len(df_q)\n",
        "        mdr_pct = df_q['Is_MDR'].mean() * 100 if total > 0 else np.nan\n",
        "        quarter_data.append((q, mdr_pct))\n",
        "\n",
        "    df_plot = pd.DataFrame(quarter_data, columns=['Quarter', 'MDR %'])\n",
        "    df_plot['Quarter'] = pd.PeriodIndex(df_plot['Quarter'], freq='Q').to_timestamp()\n",
        "    df_plot.set_index('Quarter', inplace=True)\n",
        "\n",
        "    if df_plot['MDR %'].notna().sum() >= 12:\n",
        "        mk_result = mk.original_test(df_plot['MDR %'].dropna())\n",
        "        label = f\"{mk_result.trend} (p = {mk_result.p:.3f})\"\n",
        "        df_plot['MDR %'] = df_plot['MDR %'].interpolate(method='linear', limit_direction='both')\n",
        "        df_plot['RollingAvg'] = df_plot['MDR %'].rolling(window=3, min_periods=1).mean()\n",
        "        plot_dict[organism] = {'df': df_plot, 'label': label}\n",
        "\n",
        "# --- Plotting ---\n",
        "n_orgs = len(plot_dict)\n",
        "cols = 2\n",
        "rows = int(np.ceil(n_orgs / cols))\n",
        "fig, axes = plt.subplots(rows, cols, figsize=(7 * cols, 4.5 * rows), sharex=True)\n",
        "axes = axes.flatten()\n",
        "colors = plt.cm.tab10.colors\n",
        "\n",
        "for idx, (organism, content) in enumerate(plot_dict.items()):\n",
        "    ax = axes[idx]\n",
        "    df = content['df']\n",
        "    color = colors[idx % len(colors)]\n",
        "\n",
        "    ax.plot(df.index, df['RollingAvg'], linestyle='-', marker='o', color=color)\n",
        "\n",
        "    # Panel letter a. b. c.\n",
        "    ax.text(0.01, 0.95, f\"{chr(97 + idx)}.\", transform=ax.transAxes,\n",
        "            fontsize=11, fontproperties=arial_font, va='top')\n",
        "\n",
        "    # p-value text only\n",
        "    ax.text(0.06, 0.85, content['label'], transform=ax.transAxes,\n",
        "            fontsize=9, fontproperties=arial_font, va='top')\n",
        "\n",
        "    ax.set_ylim(0, 110)\n",
        "    ax.axhline(50, color='gray', linestyle='--', linewidth=1)\n",
        "    ax.grid(True, linestyle='--', alpha=0.6)\n",
        "    ax.set_ylabel(\"MDR (%)\", fontsize=10, fontproperties=arial_font)\n",
        "    ax.set_xlabel(\"Quarter\", fontsize=10, fontproperties=arial_font)\n",
        "    ax.tick_params(axis='x', rotation=45)\n",
        "    ax.tick_params(axis='y', labelsize=9)\n",
        "    ax.set_yticks([0, 25, 50, 75, 100])\n",
        "\n",
        "# Hide unused axes\n",
        "for j in range(idx + 1, len(axes)):\n",
        "    axes[j].axis('off')\n",
        "\n",
        "# --- Final layout ---\n",
        "plt.tight_layout()\n",
        "plt.subplots_adjust(top=0.93)\n",
        "plt.suptitle(\"Quarterly MDR Trends by Organism (3-Quarter Rolling Average)\", fontsize=14, fontproperties=arial_font)\n",
        "\n",
        "# --- Save and download ---\n",
        "plt.savefig(\"MRRH2024_Figure6.jpg\", dpi=300, format='jpg')\n",
        "plt.show()\n",
        "files.download(\"MRRH2024_Figure6.jpg\")"
      ]
    },
    {
      "cell_type": "code",
      "execution_count": null,
      "metadata": {
        "id": "MTZ4w4utO1g_"
      },
      "outputs": [],
      "source": []
    },
    {
      "cell_type": "markdown",
      "metadata": {
        "id": "a-cTjZf_O1g_"
      },
      "source": []
    },
    {
      "cell_type": "code",
      "execution_count": null,
      "metadata": {
        "id": "vs8FYF-hO1g_"
      },
      "outputs": [],
      "source": [
        "#unique urine specimen\n",
        "print(urine_data['Specimen type'].unique())"
      ]
    },
    {
      "cell_type": "code",
      "execution_count": null,
      "metadata": {
        "id": "vfKR9l8KO1g_"
      },
      "outputs": [],
      "source": [
        "data_table.enable_dataframe_formatter()\n",
        "data_table.enable_dataframe_formatter()\n",
        "\n",
        "# ... (your existing code to load and preprocess urine_data) ...\n",
        "\n",
        "# Get unique organisms and antimicrobial agents\n",
        "unique_organisms = urine_data['Organism'].unique()\n",
        "antibiotic_columns = urine_data.columns[urine_data.columns.str.endswith(('_I', '_R', '_S'))]\n",
        "antimicrobial_agents = list(set([col[:-2] for col in antibiotic_columns]))\n",
        "\n",
        "# Create a dictionary to store the table data\n",
        "table_data = {'Bacterial Isolates': [], 'R0 No (%)': [], 'R1 No (%)': [], 'R2 No (%)': [],\n",
        "              'R3 No (%)': [], 'R4 No (%)': [], 'R5 No (%)': [], 'R6 No (%)': [], '>R7 No (%)': []}\n",
        "\n",
        "# Iterate through unique organisms\n",
        "for organism in unique_organisms:\n",
        "    # Get organism count, handling potential KeyError\n",
        "    organism_count = urine_data['Organism'].value_counts().get(organism, 0)\n",
        "\n",
        "    table_data['Bacterial Isolates'].append(f\"{organism} ({organism_count})\")\n",
        "\n",
        "    # Calculate resistance counts for each category directly\n",
        "    resistance_counts = [0] * 8  # Initialize counts for R0 to >R7\n",
        "\n",
        "    for i in range(len(resistance_counts)):\n",
        "        # Calculate count for current resistance level (R0 to >R7)\n",
        "        count = 0\n",
        "        for _, row in urine_data[urine_data['Organism'] == organism].iterrows():\n",
        "            resistance_level = 0\n",
        "            for agent in antimicrobial_agents:\n",
        "                if agent + '_I' in row and agent + '_R' in row:\n",
        "                    if row[agent + '_I'] == 1 or row[agent + '_R'] == 1:\n",
        "                        resistance_level += 1\n",
        "\n",
        "            if resistance_level == i:  # Check if resistance level matches current category\n",
        "                count += 1\n",
        "            elif resistance_level > 6 and i == 7: # For >R7 category\n",
        "                count += 1\n",
        "\n",
        "        resistance_counts[i] = count\n",
        "\n",
        "    # Calculate percentages and format for the table\n",
        "    total_isolates = urine_data['Organism'].value_counts().get(organism, 0)  # Handle KeyError\n",
        "    for i in range(len(resistance_counts)):\n",
        "        percentage = (resistance_counts[i] / total_isolates) * 100 if total_isolates else 0\n",
        "        table_data[f\"R{i} No (%)\" if i <= 6 else \">R7 No (%)\"].append(f\"{resistance_counts[i]} ({percentage:.1f}%)\")\n",
        "\n",
        "# Create the DataFrame\n",
        "multi_drug_resistance_table = pd.DataFrame(table_data)\n",
        "\n",
        "# Display the table using data_table formatter\n",
        "display(multi_drug_resistance_table)"
      ]
    },
    {
      "cell_type": "markdown",
      "metadata": {
        "id": "vPdtDohvO1g_"
      },
      "source": []
    },
    {
      "cell_type": "code",
      "execution_count": null,
      "metadata": {
        "id": "3AkIONoGO1g_"
      },
      "outputs": [],
      "source": [
        "urine_data.head()"
      ]
    },
    {
      "cell_type": "code",
      "execution_count": null,
      "metadata": {
        "id": "B3grLSymO1g_"
      },
      "outputs": [],
      "source": [
        "#print unique specimen type\n",
        "print(urine_data['Specimen type'].unique())"
      ]
    },
    {
      "cell_type": "code",
      "execution_count": null,
      "metadata": {
        "id": "JiPV7fD-O1hA"
      },
      "outputs": [],
      "source": []
    },
    {
      "cell_type": "code",
      "execution_count": null,
      "metadata": {
        "id": "FUwFJH2WO1hA"
      },
      "outputs": [],
      "source": [
        "# STEP 0: Normalize specimen labels\n",
        "specimen_map = {\n",
        "    'ur': 'Midstream urine',\n",
        "    'urine': 'Midstream urine',\n",
        "    'ue': 'Midstream urine',\n",
        "    'uc': 'Catheter'\n",
        "}\n",
        "urine_data['Specimen Type'] = urine_data['Specimen type'].str.lower().map(specimen_map)\n",
        "\n",
        "# STEP 1: Count & Percentage of Specimen Types\n",
        "specimen_counts = urine_data['Specimen Type'].value_counts().reset_index()\n",
        "specimen_counts.columns = ['Specimen Type', 'Count']\n",
        "specimen_counts['Percentage'] = round(100 * specimen_counts['Count'] / specimen_counts['Count'].sum(), 1)\n",
        "\n",
        "# STEP 2: Organism Distribution per Specimen Type\n",
        "organism_counts = urine_data.groupby(['Specimen Type', 'Organism']).size().reset_index(name='Count')\n",
        "organism_totals = organism_counts.groupby('Specimen Type')['Count'].transform('sum')\n",
        "organism_counts['Percentage'] = round(100 * organism_counts['Count'] / organism_totals, 1)\n",
        "\n",
        "# STEP 3: Resistance Percentage by Specimen\n",
        "if 'Resistant_to_Any' not in urine_data.columns:\n",
        "    raise ValueError(\"You must have a 'Resistant_to_Any' column with True/False values indicating resistance.\")\n",
        "\n",
        "resistance_summary = urine_data.groupby('Specimen Type')['Resistant_to_Any'].agg(['sum', 'count']).reset_index()\n",
        "resistance_summary['Resistance %'] = round(100 * resistance_summary['sum'] / resistance_summary['count'], 1)\n",
        "resistance_summary.rename(columns={'sum': 'Resistant', 'count': 'Total'}, inplace=True)\n",
        "\n",
        "# STEP 4: MDR Percentage by Specimen\n",
        "if 'MDR Status' not in urine_data.columns:\n",
        "    raise ValueError(\"You must have an 'MDR Status' column with values like 'MDR', 'Non-MDR'.\")\n",
        "\n",
        "mdr_summary = urine_data.groupby('Specimen Type')['MDR Status'].value_counts().unstack().fillna(0)\n",
        "mdr_summary['Total'] = mdr_summary.sum(axis=1)\n",
        "mdr_summary['MDR %'] = round(100 * mdr_summary.get('MDR', 0) / mdr_summary['Total'], 1)\n",
        "mdr_summary = mdr_summary.reset_index()\n",
        "\n",
        "# STEP 5: Organism-wise Resistance and MDR Comparison\n",
        "organism_resistance = urine_data.groupby(['Specimen Type', 'Organism'])['Resistant_to_Any'].mean().reset_index()\n",
        "organism_resistance['Resistance %'] = round(100 * organism_resistance['Resistant_to_Any'], 1)\n",
        "organism_resistance.drop(columns='Resistant_to_Any', inplace=True)\n",
        "\n",
        "organism_mdr = urine_data.copy()\n",
        "organism_mdr['Is_MDR'] = (organism_mdr['MDR Status'] == 'MDR').astype(int)\n",
        "organism_mdr_summary = organism_mdr.groupby(['Specimen Type', 'Organism'])['Is_MDR'].mean().reset_index()\n",
        "organism_mdr_summary['MDR %'] = round(100 * organism_mdr_summary['Is_MDR'], 1)\n",
        "organism_mdr_summary.drop(columns='Is_MDR', inplace=True)\n",
        "\n",
        "# Merge resistance and MDR summaries\n",
        "organism_summary = pd.merge(organism_resistance, organism_mdr_summary, on=['Specimen Type', 'Organism'])\n",
        "\n",
        "# DISPLAY\n",
        "print(\"\\n🧪 Specimen Type Counts and Percentages:\")\n",
        "display(specimen_counts)\n",
        "\n",
        "print(\"\\n🔬 Organism Distribution by Specimen Type:\")\n",
        "display(organism_counts)\n",
        "\n",
        "print(\"\\n🦠 Resistance Summary by Specimen Type:\")\n",
        "display(resistance_summary)\n",
        "\n",
        "print(\"\\n🧬 MDR Summary by Specimen Type:\")\n",
        "display(mdr_summary)\n",
        "\n",
        "print(\"\\n🧫 Organism-wise Resistance and MDR (%):\")\n",
        "display(organism_summary)"
      ]
    },
    {
      "cell_type": "code",
      "execution_count": null,
      "metadata": {
        "id": "MhpxPejzO1hA"
      },
      "outputs": [],
      "source": []
    },
    {
      "cell_type": "code",
      "execution_count": null,
      "metadata": {
        "id": "EE27DyytO1hA"
      },
      "outputs": [],
      "source": [
        "# STEP 0: Normalize specimen labels\n",
        "specimen_map = {\n",
        "    'ur': 'Midstream urine',\n",
        "    'urine': 'Midstream urine',\n",
        "    'ue': 'Midstream urine',\n",
        "    'uc': 'Catheter'\n",
        "}\n",
        "urine_data['Specimen Type'] = urine_data['Specimen type'].str.lower().map(specimen_map)\n",
        "\n",
        "# STEP 1: Organism Distribution\n",
        "organism_counts = urine_data.groupby(['Specimen Type', 'Organism']).size().reset_index(name='Isolate Count')\n",
        "organism_totals = organism_counts.groupby('Specimen Type')['Isolate Count'].transform('sum')\n",
        "organism_counts['% within Specimen'] = round(100 * organism_counts['Isolate Count'] / organism_totals, 1)\n",
        "\n",
        "# STEP 2: Resistance % per Organism\n",
        "resist_summary = urine_data.groupby(['Specimen Type', 'Organism'])['Resistant_to_Any'].mean().reset_index()\n",
        "resist_summary['Resistance %'] = round(100 * resist_summary['Resistant_to_Any'], 1)\n",
        "resist_summary = resist_summary.drop(columns='Resistant_to_Any')\n",
        "\n",
        "# STEP 3: MDR % per Organism\n",
        "urine_data['Is_MDR'] = (urine_data['MDR Status'] == 'MDR').astype(int)\n",
        "mdr_summary = urine_data.groupby(['Specimen Type', 'Organism'])['Is_MDR'].mean().reset_index()\n",
        "mdr_summary['MDR %'] = round(100 * mdr_summary['Is_MDR'], 1)\n",
        "mdr_summary = mdr_summary.drop(columns='Is_MDR')\n",
        "\n",
        "# STEP 4: Combine summaries\n",
        "final_summary = organism_counts.merge(resist_summary, on=['Specimen Type', 'Organism'])\n",
        "final_summary = final_summary.merge(mdr_summary, on=['Specimen Type', 'Organism'])\n",
        "\n",
        "# Display the final summary table\n",
        "print(\"📊 Table: Summary of Organisms, Resistance, and MDR Patterns by Specimen Type\")\n",
        "display(final_summary.sort_values(by=['Specimen Type', 'Organism']))"
      ]
    },
    {
      "cell_type": "code",
      "execution_count": null,
      "metadata": {
        "id": "fGoc9Bj_O1hA"
      },
      "outputs": [],
      "source": []
    },
    {
      "cell_type": "code",
      "execution_count": null,
      "metadata": {
        "id": "NoiXYP9rO1hA"
      },
      "outputs": [],
      "source": [
        "drive.mount('/content/drive')"
      ]
    },
    {
      "cell_type": "code",
      "execution_count": null,
      "metadata": {
        "id": "GDXJdRVkO1hB"
      },
      "outputs": [],
      "source": []
    },
    {
      "cell_type": "code",
      "execution_count": null,
      "metadata": {
        "id": "ztRc8G4wO1hB"
      },
      "outputs": [],
      "source": [
        "#export the dataframe to csv\n",
        "susceptibility_table.to_csv('/content/drive/My Drive/susceptibility_table.csv', index=True)\n",
        "df_verify = pd.read_csv('/content/drive/My Drive/susceptibility_table.csv')\n",
        "#print(df_verify)\n",
        "#export multiple drug resistance table\n",
        "multi_drug_resistance_table.to_csv('/content/drive/My Drive/multi_drug_resistance_table.csv', index=True)\n",
        "df_verify = pd.read_csv('/content/drive/My Drive/multi_drug_resistance_table.csv')\n",
        "#export susceptibility_table\n",
        "susceptibility_table.to_csv('/content/drive/My Drive/susceptibility_table.csv', index=True)\n",
        "df_verify = pd.read_csv('/content/drive/My Drive/susceptibility_table.csv')\n",
        "#print(df_verify)"
      ]
    },
    {
      "cell_type": "code",
      "execution_count": null,
      "metadata": {
        "id": "GfmpJDWAO1hB"
      },
      "outputs": [],
      "source": [
        "#let us do a time series analysis"
      ]
    },
    {
      "cell_type": "code",
      "execution_count": null,
      "metadata": {
        "id": "cSZgcvWwO1hB"
      },
      "outputs": [],
      "source": []
    },
    {
      "cell_type": "code",
      "execution_count": null,
      "metadata": {
        "id": "6uCy_SQeO1hB"
      },
      "outputs": [],
      "source": [
        "urine_data.columns"
      ]
    },
    {
      "cell_type": "code",
      "execution_count": null,
      "metadata": {
        "id": "5NkXZ6_eO1hB"
      },
      "outputs": [],
      "source": []
    },
    {
      "cell_type": "code",
      "execution_count": null,
      "metadata": {
        "id": "yY7mXStNO1hB"
      },
      "outputs": [],
      "source": []
    },
    {
      "cell_type": "code",
      "execution_count": null,
      "metadata": {
        "id": "AmMVdbCUO1hB"
      },
      "outputs": [],
      "source": []
    }
  ],
  "metadata": {
    "colab": {
      "provenance": [],
      "include_colab_link": true
    },
    "kernelspec": {
      "display_name": "Python 3",
      "name": "python3"
    },
    "language_info": {
      "name": "python"
    }
  },
  "nbformat": 4,
  "nbformat_minor": 0
}